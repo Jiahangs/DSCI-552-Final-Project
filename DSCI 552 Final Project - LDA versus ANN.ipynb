{
 "cells": [
  {
   "cell_type": "markdown",
   "metadata": {},
   "source": [
    "# DSCI 552 Final Project - LDA versus ANN\n"
   ]
  },
  {
   "cell_type": "markdown",
   "metadata": {},
   "source": [
    "Author: Jiahang Song"
   ]
  },
  {
   "cell_type": "code",
   "execution_count": 275,
   "metadata": {},
   "outputs": [],
   "source": [
    "import matplotlib.pyplot as plt\n",
    "from sklearn import datasets\n",
    "from sklearn.discriminant_analysis import LinearDiscriminantAnalysis\n",
    "from sklearn.model_selection import train_test_split\n",
    "from sklearn.model_selection import cross_val_score\n",
    "from sklearn.model_selection import RepeatedStratifiedKFold\n",
    "from keras.models import Sequential \n",
    "from keras.layers import Dense,Activation,Dropout \n",
    "from keras.layers.normalization import BatchNormalization \n",
    "from keras.utils import np_utils\n",
    "import keras\n",
    "import pandas as pd\n",
    "from numpy import mean\n",
    "from numpy import std\n",
    "from sklearn.preprocessing import normalize\n",
    "import numpy as np\n",
    "import tensorflow as tf\n",
    "from keras.callbacks import EarlyStopping\n"
   ]
  },
  {
   "cell_type": "markdown",
   "metadata": {},
   "source": [
    "## 1. Iris Dataset"
   ]
  },
  {
   "cell_type": "code",
   "execution_count": 441,
   "metadata": {},
   "outputs": [],
   "source": [
    "iris = datasets.load_iris()"
   ]
  },
  {
   "cell_type": "code",
   "execution_count": 344,
   "metadata": {},
   "outputs": [],
   "source": [
    "x = iris.data\n",
    "y = iris.target\n",
    "target_names = iris.target_names"
   ]
  },
  {
   "cell_type": "code",
   "execution_count": 345,
   "metadata": {},
   "outputs": [],
   "source": [
    "train_x, test_x, train_y, test_y = train_test_split(x,y, test_size=0.3, shuffle = True, random_state = 0) #first, split out 20% test dataset\n"
   ]
  },
  {
   "cell_type": "code",
   "execution_count": null,
   "metadata": {},
   "outputs": [],
   "source": []
  },
  {
   "cell_type": "markdown",
   "metadata": {},
   "source": [
    "## Linear Discriminant Analysis"
   ]
  },
  {
   "cell_type": "code",
   "execution_count": 346,
   "metadata": {},
   "outputs": [
    {
     "data": {
      "text/plain": [
       "array(['setosa', 'versicolor', 'virginica'], dtype='<U10')"
      ]
     },
     "execution_count": 346,
     "metadata": {},
     "output_type": "execute_result"
    }
   ],
   "source": [
    "target_names"
   ]
  },
  {
   "cell_type": "code",
   "execution_count": null,
   "metadata": {},
   "outputs": [],
   "source": []
  },
  {
   "cell_type": "code",
   "execution_count": 347,
   "metadata": {},
   "outputs": [],
   "source": [
    "model_1_lda = LinearDiscriminantAnalysis()"
   ]
  },
  {
   "cell_type": "code",
   "execution_count": 348,
   "metadata": {},
   "outputs": [],
   "source": [
    "cv = RepeatedStratifiedKFold(n_splits=10, n_repeats=3, random_state=1)"
   ]
  },
  {
   "cell_type": "code",
   "execution_count": 349,
   "metadata": {},
   "outputs": [],
   "source": [
    "scores = cross_val_score(model_1_lda, train_x, train_y, scoring='accuracy', cv=cv, n_jobs=-1)"
   ]
  },
  {
   "cell_type": "code",
   "execution_count": 350,
   "metadata": {},
   "outputs": [
    {
     "name": "stdout",
     "output_type": "stream",
     "text": [
      "Mean Accuracy: 0.981 (0.038)\n"
     ]
    }
   ],
   "source": [
    "print('Mean Accuracy: %.3f (%.3f)' % (mean(scores), std(scores)))"
   ]
  },
  {
   "cell_type": "code",
   "execution_count": 351,
   "metadata": {},
   "outputs": [
    {
     "data": {
      "text/plain": [
       "LinearDiscriminantAnalysis()"
      ]
     },
     "execution_count": 351,
     "metadata": {},
     "output_type": "execute_result"
    }
   ],
   "source": [
    "model_1_lda.fit(train_x, train_y)"
   ]
  },
  {
   "cell_type": "code",
   "execution_count": 352,
   "metadata": {},
   "outputs": [],
   "source": [
    "predict_y = model_1_lda.predict(test_x)"
   ]
  },
  {
   "cell_type": "code",
   "execution_count": 353,
   "metadata": {},
   "outputs": [],
   "source": [
    "accuracy_1_lda= sum(predict_y == test_y)/len(test_y)"
   ]
  },
  {
   "cell_type": "code",
   "execution_count": 354,
   "metadata": {},
   "outputs": [
    {
     "data": {
      "text/plain": [
       "0.9777777777777777"
      ]
     },
     "execution_count": 354,
     "metadata": {},
     "output_type": "execute_result"
    }
   ],
   "source": [
    "accuracy_1_lda"
   ]
  },
  {
   "cell_type": "code",
   "execution_count": null,
   "metadata": {},
   "outputs": [],
   "source": []
  },
  {
   "cell_type": "markdown",
   "metadata": {},
   "source": [
    "## Artificial Neural Network"
   ]
  },
  {
   "cell_type": "markdown",
   "metadata": {},
   "source": [
    "normalized data to a range of 0-1 for processing"
   ]
  },
  {
   "cell_type": "code",
   "execution_count": 355,
   "metadata": {},
   "outputs": [],
   "source": [
    "train_x_normalized=normalize(train_x,axis=0)\n",
    "test_x_normalized=normalize(test_x,axis=0)"
   ]
  },
  {
   "cell_type": "code",
   "execution_count": 356,
   "metadata": {},
   "outputs": [
    {
     "data": {
      "text/plain": [
       "(105, 4)"
      ]
     },
     "execution_count": 356,
     "metadata": {},
     "output_type": "execute_result"
    }
   ],
   "source": [
    "train_x_normalized.shape"
   ]
  },
  {
   "cell_type": "code",
   "execution_count": 357,
   "metadata": {},
   "outputs": [
    {
     "data": {
      "text/plain": [
       "(45, 4)"
      ]
     },
     "execution_count": 357,
     "metadata": {},
     "output_type": "execute_result"
    }
   ],
   "source": [
    "test_x_normalized.shape"
   ]
  },
  {
   "cell_type": "code",
   "execution_count": 358,
   "metadata": {},
   "outputs": [],
   "source": [
    "y_train_cate=np_utils.to_categorical(train_y,num_classes=3)\n",
    "y_test_cate=np_utils.to_categorical(test_y,num_classes=3)"
   ]
  },
  {
   "cell_type": "code",
   "execution_count": null,
   "metadata": {},
   "outputs": [],
   "source": []
  },
  {
   "cell_type": "code",
   "execution_count": 359,
   "metadata": {},
   "outputs": [],
   "source": [
    "model_1_ann=Sequential()\n",
    "model_1_ann.add(Dense(500,input_dim=4,activation='relu'))\n",
    "model_1_ann.add(Dense(200,activation='relu'))\n",
    "model_1_ann.add(Dense(3,activation='softmax'))\n",
    "model_1_ann.compile(loss='categorical_crossentropy',optimizer='adam',metrics=['accuracy'])"
   ]
  },
  {
   "cell_type": "code",
   "execution_count": 360,
   "metadata": {},
   "outputs": [],
   "source": [
    "es = EarlyStopping(monitor='val_accuracy', mode='max', verbose=1, patience=5) #earlystopping\n"
   ]
  },
  {
   "cell_type": "code",
   "execution_count": 361,
   "metadata": {},
   "outputs": [
    {
     "name": "stdout",
     "output_type": "stream",
     "text": [
      "Epoch 1/15\n",
      "3/3 [==============================] - 1s 98ms/step - loss: 1.0970 - accuracy: 0.2738 - val_loss: 1.0884 - val_accuracy: 0.4286\n",
      "Epoch 2/15\n",
      "3/3 [==============================] - 0s 20ms/step - loss: 1.0778 - accuracy: 0.6105 - val_loss: 1.0804 - val_accuracy: 0.5714\n",
      "Epoch 3/15\n",
      "3/3 [==============================] - 0s 23ms/step - loss: 1.0594 - accuracy: 0.7262 - val_loss: 1.0733 - val_accuracy: 0.5714\n",
      "Epoch 4/15\n",
      "3/3 [==============================] - 0s 25ms/step - loss: 1.0406 - accuracy: 0.6987 - val_loss: 1.0640 - val_accuracy: 0.5238\n",
      "Epoch 5/15\n",
      "3/3 [==============================] - 0s 25ms/step - loss: 1.0259 - accuracy: 0.6830 - val_loss: 1.0524 - val_accuracy: 0.5714\n",
      "Epoch 6/15\n",
      "3/3 [==============================] - 0s 25ms/step - loss: 1.0089 - accuracy: 0.7048 - val_loss: 1.0392 - val_accuracy: 0.5714\n",
      "Epoch 7/15\n",
      "3/3 [==============================] - 0s 25ms/step - loss: 0.9864 - accuracy: 0.7225 - val_loss: 1.0240 - val_accuracy: 0.5714\n",
      "Epoch 00007: early stopping\n"
     ]
    }
   ],
   "source": [
    "history_1_ann = model_1_ann.fit(train_x_normalized,y_train_cate,validation_split = 0.2,epochs=15,verbose=1, callbacks=[es])\n"
   ]
  },
  {
   "cell_type": "code",
   "execution_count": 362,
   "metadata": {},
   "outputs": [
    {
     "name": "stdout",
     "output_type": "stream",
     "text": [
      "Accuracy of the dataset 0.5777777777777777\n"
     ]
    }
   ],
   "source": [
    "prediction=model_1_ann.predict(test_x_normalized)\n",
    "length=len(prediction)\n",
    "y_label=np.argmax(y_test_cate,axis=1)\n",
    "predict_label=np.argmax(prediction,axis=1)\n",
    "\n",
    "accuracy_1_ann=np.sum(y_label==predict_label)/length \n",
    "print(\"Accuracy of the dataset\",accuracy_1_ann )"
   ]
  },
  {
   "cell_type": "code",
   "execution_count": null,
   "metadata": {},
   "outputs": [],
   "source": []
  },
  {
   "cell_type": "markdown",
   "metadata": {},
   "source": [
    "## 2. Wine Dataset"
   ]
  },
  {
   "cell_type": "code",
   "execution_count": 168,
   "metadata": {},
   "outputs": [],
   "source": [
    "wine = pd.read_csv('wine.csv')\n"
   ]
  },
  {
   "cell_type": "code",
   "execution_count": 179,
   "metadata": {},
   "outputs": [],
   "source": [
    "data = wine.drop(wine.columns[0], axis=1)"
   ]
  },
  {
   "cell_type": "code",
   "execution_count": 181,
   "metadata": {},
   "outputs": [
    {
     "data": {
      "text/html": [
       "<div>\n",
       "<style scoped>\n",
       "    .dataframe tbody tr th:only-of-type {\n",
       "        vertical-align: middle;\n",
       "    }\n",
       "\n",
       "    .dataframe tbody tr th {\n",
       "        vertical-align: top;\n",
       "    }\n",
       "\n",
       "    .dataframe thead th {\n",
       "        text-align: right;\n",
       "    }\n",
       "</style>\n",
       "<table border=\"1\" class=\"dataframe\">\n",
       "  <thead>\n",
       "    <tr style=\"text-align: right;\">\n",
       "      <th></th>\n",
       "      <th>Cultivars</th>\n",
       "      <th>Alcohol</th>\n",
       "      <th>Malic acid</th>\n",
       "      <th>Ash</th>\n",
       "      <th>Alcalinity of ash</th>\n",
       "      <th>Magnesium</th>\n",
       "      <th>Total Phenols</th>\n",
       "      <th>Flavanoids</th>\n",
       "      <th>Nonflavanoid phenols</th>\n",
       "      <th>Proanthocyanins</th>\n",
       "      <th>Color intensity</th>\n",
       "      <th>Hue</th>\n",
       "      <th>OD280/OD315 of diluted wines</th>\n",
       "      <th>Proline</th>\n",
       "    </tr>\n",
       "  </thead>\n",
       "  <tbody>\n",
       "    <tr>\n",
       "      <th>0</th>\n",
       "      <td>1</td>\n",
       "      <td>14.23</td>\n",
       "      <td>1.71</td>\n",
       "      <td>2.43</td>\n",
       "      <td>15.6</td>\n",
       "      <td>127</td>\n",
       "      <td>2.80</td>\n",
       "      <td>3.06</td>\n",
       "      <td>0.28</td>\n",
       "      <td>2.29</td>\n",
       "      <td>5.64</td>\n",
       "      <td>1.04</td>\n",
       "      <td>3.92</td>\n",
       "      <td>1065</td>\n",
       "    </tr>\n",
       "    <tr>\n",
       "      <th>1</th>\n",
       "      <td>1</td>\n",
       "      <td>13.20</td>\n",
       "      <td>1.78</td>\n",
       "      <td>2.14</td>\n",
       "      <td>11.2</td>\n",
       "      <td>100</td>\n",
       "      <td>2.65</td>\n",
       "      <td>2.76</td>\n",
       "      <td>0.26</td>\n",
       "      <td>1.28</td>\n",
       "      <td>4.38</td>\n",
       "      <td>1.05</td>\n",
       "      <td>3.40</td>\n",
       "      <td>1050</td>\n",
       "    </tr>\n",
       "    <tr>\n",
       "      <th>2</th>\n",
       "      <td>1</td>\n",
       "      <td>13.16</td>\n",
       "      <td>2.36</td>\n",
       "      <td>2.67</td>\n",
       "      <td>18.6</td>\n",
       "      <td>101</td>\n",
       "      <td>2.80</td>\n",
       "      <td>3.24</td>\n",
       "      <td>0.30</td>\n",
       "      <td>2.81</td>\n",
       "      <td>5.68</td>\n",
       "      <td>1.03</td>\n",
       "      <td>3.17</td>\n",
       "      <td>1185</td>\n",
       "    </tr>\n",
       "    <tr>\n",
       "      <th>3</th>\n",
       "      <td>1</td>\n",
       "      <td>14.37</td>\n",
       "      <td>1.95</td>\n",
       "      <td>2.50</td>\n",
       "      <td>16.8</td>\n",
       "      <td>113</td>\n",
       "      <td>3.85</td>\n",
       "      <td>3.49</td>\n",
       "      <td>0.24</td>\n",
       "      <td>2.18</td>\n",
       "      <td>7.80</td>\n",
       "      <td>0.86</td>\n",
       "      <td>3.45</td>\n",
       "      <td>1480</td>\n",
       "    </tr>\n",
       "    <tr>\n",
       "      <th>4</th>\n",
       "      <td>1</td>\n",
       "      <td>13.24</td>\n",
       "      <td>2.59</td>\n",
       "      <td>2.87</td>\n",
       "      <td>21.0</td>\n",
       "      <td>118</td>\n",
       "      <td>2.80</td>\n",
       "      <td>2.69</td>\n",
       "      <td>0.39</td>\n",
       "      <td>1.82</td>\n",
       "      <td>4.32</td>\n",
       "      <td>1.04</td>\n",
       "      <td>2.93</td>\n",
       "      <td>735</td>\n",
       "    </tr>\n",
       "    <tr>\n",
       "      <th>...</th>\n",
       "      <td>...</td>\n",
       "      <td>...</td>\n",
       "      <td>...</td>\n",
       "      <td>...</td>\n",
       "      <td>...</td>\n",
       "      <td>...</td>\n",
       "      <td>...</td>\n",
       "      <td>...</td>\n",
       "      <td>...</td>\n",
       "      <td>...</td>\n",
       "      <td>...</td>\n",
       "      <td>...</td>\n",
       "      <td>...</td>\n",
       "      <td>...</td>\n",
       "    </tr>\n",
       "    <tr>\n",
       "      <th>173</th>\n",
       "      <td>3</td>\n",
       "      <td>13.71</td>\n",
       "      <td>5.65</td>\n",
       "      <td>2.45</td>\n",
       "      <td>20.5</td>\n",
       "      <td>95</td>\n",
       "      <td>1.68</td>\n",
       "      <td>0.61</td>\n",
       "      <td>0.52</td>\n",
       "      <td>1.06</td>\n",
       "      <td>7.70</td>\n",
       "      <td>0.64</td>\n",
       "      <td>1.74</td>\n",
       "      <td>740</td>\n",
       "    </tr>\n",
       "    <tr>\n",
       "      <th>174</th>\n",
       "      <td>3</td>\n",
       "      <td>13.40</td>\n",
       "      <td>3.91</td>\n",
       "      <td>2.48</td>\n",
       "      <td>23.0</td>\n",
       "      <td>102</td>\n",
       "      <td>1.80</td>\n",
       "      <td>0.75</td>\n",
       "      <td>0.43</td>\n",
       "      <td>1.41</td>\n",
       "      <td>7.30</td>\n",
       "      <td>0.70</td>\n",
       "      <td>1.56</td>\n",
       "      <td>750</td>\n",
       "    </tr>\n",
       "    <tr>\n",
       "      <th>175</th>\n",
       "      <td>3</td>\n",
       "      <td>13.27</td>\n",
       "      <td>4.28</td>\n",
       "      <td>2.26</td>\n",
       "      <td>20.0</td>\n",
       "      <td>120</td>\n",
       "      <td>1.59</td>\n",
       "      <td>0.69</td>\n",
       "      <td>0.43</td>\n",
       "      <td>1.35</td>\n",
       "      <td>10.20</td>\n",
       "      <td>0.59</td>\n",
       "      <td>1.56</td>\n",
       "      <td>835</td>\n",
       "    </tr>\n",
       "    <tr>\n",
       "      <th>176</th>\n",
       "      <td>3</td>\n",
       "      <td>13.17</td>\n",
       "      <td>2.59</td>\n",
       "      <td>2.37</td>\n",
       "      <td>20.0</td>\n",
       "      <td>120</td>\n",
       "      <td>1.65</td>\n",
       "      <td>0.68</td>\n",
       "      <td>0.53</td>\n",
       "      <td>1.46</td>\n",
       "      <td>9.30</td>\n",
       "      <td>0.60</td>\n",
       "      <td>1.62</td>\n",
       "      <td>840</td>\n",
       "    </tr>\n",
       "    <tr>\n",
       "      <th>177</th>\n",
       "      <td>3</td>\n",
       "      <td>14.13</td>\n",
       "      <td>4.10</td>\n",
       "      <td>2.74</td>\n",
       "      <td>24.5</td>\n",
       "      <td>96</td>\n",
       "      <td>2.05</td>\n",
       "      <td>0.76</td>\n",
       "      <td>0.56</td>\n",
       "      <td>1.35</td>\n",
       "      <td>9.20</td>\n",
       "      <td>0.61</td>\n",
       "      <td>1.60</td>\n",
       "      <td>560</td>\n",
       "    </tr>\n",
       "  </tbody>\n",
       "</table>\n",
       "<p>178 rows × 14 columns</p>\n",
       "</div>"
      ],
      "text/plain": [
       "     Cultivars  Alcohol  Malic acid   Ash  Alcalinity of ash  Magnesium  \\\n",
       "0            1    14.23        1.71  2.43               15.6        127   \n",
       "1            1    13.20        1.78  2.14               11.2        100   \n",
       "2            1    13.16        2.36  2.67               18.6        101   \n",
       "3            1    14.37        1.95  2.50               16.8        113   \n",
       "4            1    13.24        2.59  2.87               21.0        118   \n",
       "..         ...      ...         ...   ...                ...        ...   \n",
       "173          3    13.71        5.65  2.45               20.5         95   \n",
       "174          3    13.40        3.91  2.48               23.0        102   \n",
       "175          3    13.27        4.28  2.26               20.0        120   \n",
       "176          3    13.17        2.59  2.37               20.0        120   \n",
       "177          3    14.13        4.10  2.74               24.5         96   \n",
       "\n",
       "     Total Phenols  Flavanoids  Nonflavanoid phenols  Proanthocyanins  \\\n",
       "0             2.80        3.06                  0.28             2.29   \n",
       "1             2.65        2.76                  0.26             1.28   \n",
       "2             2.80        3.24                  0.30             2.81   \n",
       "3             3.85        3.49                  0.24             2.18   \n",
       "4             2.80        2.69                  0.39             1.82   \n",
       "..             ...         ...                   ...              ...   \n",
       "173           1.68        0.61                  0.52             1.06   \n",
       "174           1.80        0.75                  0.43             1.41   \n",
       "175           1.59        0.69                  0.43             1.35   \n",
       "176           1.65        0.68                  0.53             1.46   \n",
       "177           2.05        0.76                  0.56             1.35   \n",
       "\n",
       "     Color intensity   Hue  OD280/OD315 of diluted wines  Proline  \n",
       "0               5.64  1.04                          3.92     1065  \n",
       "1               4.38  1.05                          3.40     1050  \n",
       "2               5.68  1.03                          3.17     1185  \n",
       "3               7.80  0.86                          3.45     1480  \n",
       "4               4.32  1.04                          2.93      735  \n",
       "..               ...   ...                           ...      ...  \n",
       "173             7.70  0.64                          1.74      740  \n",
       "174             7.30  0.70                          1.56      750  \n",
       "175            10.20  0.59                          1.56      835  \n",
       "176             9.30  0.60                          1.62      840  \n",
       "177             9.20  0.61                          1.60      560  \n",
       "\n",
       "[178 rows x 14 columns]"
      ]
     },
     "execution_count": 181,
     "metadata": {},
     "output_type": "execute_result"
    }
   ],
   "source": [
    "data"
   ]
  },
  {
   "cell_type": "code",
   "execution_count": 184,
   "metadata": {},
   "outputs": [],
   "source": [
    "x_wine = data[data.columns[-13:]]\n",
    "y_wine = data.Cultivars"
   ]
  },
  {
   "cell_type": "code",
   "execution_count": 186,
   "metadata": {},
   "outputs": [],
   "source": [
    "train_x, test_x, train_y, test_y = train_test_split(x_wine,y_wine, test_size=0.2, shuffle = True, random_state = 1) #first, split out 20% test dataset\n"
   ]
  },
  {
   "cell_type": "markdown",
   "metadata": {},
   "source": [
    "## LDA"
   ]
  },
  {
   "cell_type": "code",
   "execution_count": 188,
   "metadata": {},
   "outputs": [],
   "source": [
    "model_2_lda = LinearDiscriminantAnalysis()"
   ]
  },
  {
   "cell_type": "code",
   "execution_count": 189,
   "metadata": {},
   "outputs": [],
   "source": [
    "cv = RepeatedStratifiedKFold(n_splits=10, n_repeats=3, random_state=1)"
   ]
  },
  {
   "cell_type": "code",
   "execution_count": 190,
   "metadata": {},
   "outputs": [
    {
     "name": "stdout",
     "output_type": "stream",
     "text": [
      "Mean Accuracy: 0.986 (0.028)\n"
     ]
    }
   ],
   "source": [
    "scores = cross_val_score(model_2_lda, train_x, train_y, scoring='accuracy', cv=cv, n_jobs=-1)\n",
    "print('Mean Accuracy: %.3f (%.3f)' % (mean(scores), std(scores)))"
   ]
  },
  {
   "cell_type": "code",
   "execution_count": 191,
   "metadata": {},
   "outputs": [
    {
     "data": {
      "text/plain": [
       "LinearDiscriminantAnalysis()"
      ]
     },
     "execution_count": 191,
     "metadata": {},
     "output_type": "execute_result"
    }
   ],
   "source": [
    "model_2_lda.fit(train_x, train_y)"
   ]
  },
  {
   "cell_type": "code",
   "execution_count": 193,
   "metadata": {},
   "outputs": [
    {
     "name": "stdout",
     "output_type": "stream",
     "text": [
      "LDA Accuracy:  1.0\n"
     ]
    }
   ],
   "source": [
    "predict_y = model_2_lda.predict(test_x)\n",
    "accuracy_2_lda= sum(predict_y == test_y)/len(test_y)\n",
    "print(\"LDA Accuracy: \",accuracy_2_lda )"
   ]
  },
  {
   "cell_type": "code",
   "execution_count": null,
   "metadata": {},
   "outputs": [],
   "source": []
  },
  {
   "cell_type": "markdown",
   "metadata": {},
   "source": [
    "## ANN"
   ]
  },
  {
   "cell_type": "code",
   "execution_count": 196,
   "metadata": {},
   "outputs": [],
   "source": [
    "train_x_normalized=normalize(train_x,axis=0)\n",
    "test_x_normalized=normalize(test_x,axis=0)\n"
   ]
  },
  {
   "cell_type": "code",
   "execution_count": null,
   "metadata": {},
   "outputs": [],
   "source": []
  },
  {
   "cell_type": "code",
   "execution_count": 198,
   "metadata": {},
   "outputs": [
    {
     "data": {
      "text/plain": [
       "(142, 13)"
      ]
     },
     "execution_count": 198,
     "metadata": {},
     "output_type": "execute_result"
    }
   ],
   "source": [
    "train_x_normalized.shape"
   ]
  },
  {
   "cell_type": "code",
   "execution_count": 207,
   "metadata": {},
   "outputs": [],
   "source": [
    "train_y_dummy = pd.get_dummies(train_y)\n",
    "test_y_dummy = pd.get_dummies(test_y)"
   ]
  },
  {
   "cell_type": "code",
   "execution_count": 208,
   "metadata": {},
   "outputs": [],
   "source": [
    "model_2_ann=Sequential()\n",
    "model_2_ann.add(Dense(500,input_dim=13,activation='relu'))\n",
    "model_2_ann.add(Dense(200,activation='relu'))\n",
    "model_2_ann.add(Dense(3,activation='softmax'))\n",
    "model_2_ann.compile(loss='categorical_crossentropy',optimizer='adam',metrics=['accuracy'])"
   ]
  },
  {
   "cell_type": "code",
   "execution_count": 210,
   "metadata": {},
   "outputs": [
    {
     "name": "stdout",
     "output_type": "stream",
     "text": [
      "Epoch 1/25\n",
      "4/4 [==============================] - 0s 55ms/step - loss: 0.4162 - accuracy: 0.9469 - val_loss: 0.4816 - val_accuracy: 0.8966\n",
      "Epoch 2/25\n",
      "4/4 [==============================] - 0s 21ms/step - loss: 0.3775 - accuracy: 0.9381 - val_loss: 0.4022 - val_accuracy: 0.9655\n",
      "Epoch 3/25\n",
      "4/4 [==============================] - 0s 25ms/step - loss: 0.3483 - accuracy: 0.9469 - val_loss: 0.3486 - val_accuracy: 0.9310\n",
      "Epoch 4/25\n",
      "4/4 [==============================] - 0s 21ms/step - loss: 0.2976 - accuracy: 0.9735 - val_loss: 0.3852 - val_accuracy: 0.8966\n",
      "Epoch 5/25\n",
      "4/4 [==============================] - 0s 16ms/step - loss: 0.2824 - accuracy: 0.9381 - val_loss: 0.3306 - val_accuracy: 0.9310\n",
      "Epoch 6/25\n",
      "4/4 [==============================] - 0s 19ms/step - loss: 0.2529 - accuracy: 0.9646 - val_loss: 0.2861 - val_accuracy: 0.9655\n",
      "Epoch 7/25\n",
      "4/4 [==============================] - 0s 19ms/step - loss: 0.2260 - accuracy: 0.9558 - val_loss: 0.2910 - val_accuracy: 0.9655\n",
      "Epoch 8/25\n",
      "4/4 [==============================] - 0s 16ms/step - loss: 0.2101 - accuracy: 0.9646 - val_loss: 0.2741 - val_accuracy: 0.9310\n",
      "Epoch 9/25\n",
      "4/4 [==============================] - 0s 20ms/step - loss: 0.1912 - accuracy: 0.9735 - val_loss: 0.2659 - val_accuracy: 0.9310\n",
      "Epoch 10/25\n",
      "4/4 [==============================] - 0s 20ms/step - loss: 0.1758 - accuracy: 0.9735 - val_loss: 0.2683 - val_accuracy: 0.9310\n",
      "Epoch 11/25\n",
      "4/4 [==============================] - 0s 21ms/step - loss: 0.1666 - accuracy: 0.9558 - val_loss: 0.2338 - val_accuracy: 0.9655\n",
      "Epoch 12/25\n",
      "4/4 [==============================] - 0s 20ms/step - loss: 0.1539 - accuracy: 0.9646 - val_loss: 0.2183 - val_accuracy: 0.9655\n",
      "Epoch 13/25\n",
      "4/4 [==============================] - 0s 22ms/step - loss: 0.1474 - accuracy: 0.9735 - val_loss: 0.2076 - val_accuracy: 0.9655\n",
      "Epoch 14/25\n",
      "4/4 [==============================] - 0s 20ms/step - loss: 0.1376 - accuracy: 0.9646 - val_loss: 0.2296 - val_accuracy: 0.9310\n",
      "Epoch 15/25\n",
      "4/4 [==============================] - 0s 22ms/step - loss: 0.1305 - accuracy: 0.9735 - val_loss: 0.2003 - val_accuracy: 0.9655\n",
      "Epoch 16/25\n",
      "4/4 [==============================] - 0s 19ms/step - loss: 0.1208 - accuracy: 0.9912 - val_loss: 0.2286 - val_accuracy: 0.9310\n",
      "Epoch 17/25\n",
      "4/4 [==============================] - 0s 29ms/step - loss: 0.1212 - accuracy: 0.9735 - val_loss: 0.2046 - val_accuracy: 0.9310\n",
      "Epoch 18/25\n",
      "4/4 [==============================] - 0s 21ms/step - loss: 0.1124 - accuracy: 0.9735 - val_loss: 0.1799 - val_accuracy: 0.9655\n",
      "Epoch 19/25\n",
      "4/4 [==============================] - 0s 28ms/step - loss: 0.1045 - accuracy: 0.9823 - val_loss: 0.1979 - val_accuracy: 0.9310\n",
      "Epoch 20/25\n",
      "4/4 [==============================] - 0s 20ms/step - loss: 0.1025 - accuracy: 0.9735 - val_loss: 0.2063 - val_accuracy: 0.9310\n",
      "Epoch 21/25\n",
      "4/4 [==============================] - 0s 19ms/step - loss: 0.0937 - accuracy: 0.9823 - val_loss: 0.1639 - val_accuracy: 0.9655\n",
      "Epoch 22/25\n",
      "4/4 [==============================] - 0s 18ms/step - loss: 0.0980 - accuracy: 0.9823 - val_loss: 0.1704 - val_accuracy: 0.9655\n",
      "Epoch 23/25\n",
      "4/4 [==============================] - 0s 17ms/step - loss: 0.0952 - accuracy: 0.9823 - val_loss: 0.2249 - val_accuracy: 0.9310\n",
      "Epoch 24/25\n",
      "4/4 [==============================] - 0s 19ms/step - loss: 0.0821 - accuracy: 0.9912 - val_loss: 0.1549 - val_accuracy: 0.9655\n",
      "Epoch 25/25\n",
      "4/4 [==============================] - 0s 17ms/step - loss: 0.1031 - accuracy: 0.9823 - val_loss: 0.1626 - val_accuracy: 0.9655\n"
     ]
    }
   ],
   "source": [
    "history_2_ann = model_2_ann.fit(train_x_normalized,train_y_dummy,validation_split = 0.2,epochs=25,verbose=1)\n"
   ]
  },
  {
   "cell_type": "code",
   "execution_count": 224,
   "metadata": {},
   "outputs": [
    {
     "name": "stdout",
     "output_type": "stream",
     "text": [
      "2/2 [==============================] - 0s 9ms/step - loss: 0.4886 - accuracy: 0.8056\n"
     ]
    }
   ],
   "source": [
    "ann_2_score, accuracy_2_ann = model_2_ann.evaluate(test_x_normalized,test_y_dummy)"
   ]
  },
  {
   "cell_type": "code",
   "execution_count": 225,
   "metadata": {},
   "outputs": [
    {
     "data": {
      "text/plain": [
       "0.8055555820465088"
      ]
     },
     "execution_count": 225,
     "metadata": {},
     "output_type": "execute_result"
    }
   ],
   "source": [
    "accuracy_2_ann"
   ]
  },
  {
   "cell_type": "code",
   "execution_count": null,
   "metadata": {},
   "outputs": [],
   "source": []
  },
  {
   "cell_type": "markdown",
   "metadata": {},
   "source": [
    "## 3. MNIST Fashion Dataset"
   ]
  },
  {
   "cell_type": "code",
   "execution_count": 237,
   "metadata": {},
   "outputs": [],
   "source": [
    "train = pd.read_csv('fashion-mnist_train.csv')\n",
    "test = pd.read_csv('fashion-mnist_test.csv')"
   ]
  },
  {
   "cell_type": "code",
   "execution_count": 247,
   "metadata": {},
   "outputs": [],
   "source": [
    "train_y = train.label\n",
    "test_y = test.label\n",
    "train_x = train.drop('label', axis = 1)/255\n",
    "test_x = test.drop('label', axis = 1)/255"
   ]
  },
  {
   "cell_type": "markdown",
   "metadata": {},
   "source": [
    "## LDA"
   ]
  },
  {
   "cell_type": "code",
   "execution_count": 243,
   "metadata": {},
   "outputs": [],
   "source": [
    "model_3_lda = LinearDiscriminantAnalysis()"
   ]
  },
  {
   "cell_type": "code",
   "execution_count": 244,
   "metadata": {},
   "outputs": [
    {
     "data": {
      "text/plain": [
       "LinearDiscriminantAnalysis()"
      ]
     },
     "execution_count": 244,
     "metadata": {},
     "output_type": "execute_result"
    }
   ],
   "source": [
    "model_3_lda.fit(train_x, train_y)"
   ]
  },
  {
   "cell_type": "code",
   "execution_count": 245,
   "metadata": {},
   "outputs": [
    {
     "name": "stdout",
     "output_type": "stream",
     "text": [
      "LDA Accuracy:  0.8256\n"
     ]
    }
   ],
   "source": [
    "predict_y = model_3_lda.predict(test_x)\n",
    "accuracy_3_lda= sum(predict_y == test_y)/len(test_y)\n",
    "print(\"LDA Accuracy: \",accuracy_3_lda )"
   ]
  },
  {
   "cell_type": "code",
   "execution_count": null,
   "metadata": {},
   "outputs": [],
   "source": []
  },
  {
   "cell_type": "markdown",
   "metadata": {},
   "source": [
    "## ANN"
   ]
  },
  {
   "cell_type": "code",
   "execution_count": 255,
   "metadata": {},
   "outputs": [],
   "source": [
    "train_y_dummy = pd.get_dummies(train_y)\n",
    "test_y_dummy = pd.get_dummies(test_y)"
   ]
  },
  {
   "cell_type": "code",
   "execution_count": 256,
   "metadata": {},
   "outputs": [
    {
     "data": {
      "text/html": [
       "<div>\n",
       "<style scoped>\n",
       "    .dataframe tbody tr th:only-of-type {\n",
       "        vertical-align: middle;\n",
       "    }\n",
       "\n",
       "    .dataframe tbody tr th {\n",
       "        vertical-align: top;\n",
       "    }\n",
       "\n",
       "    .dataframe thead th {\n",
       "        text-align: right;\n",
       "    }\n",
       "</style>\n",
       "<table border=\"1\" class=\"dataframe\">\n",
       "  <thead>\n",
       "    <tr style=\"text-align: right;\">\n",
       "      <th></th>\n",
       "      <th>0</th>\n",
       "      <th>1</th>\n",
       "      <th>2</th>\n",
       "      <th>3</th>\n",
       "      <th>4</th>\n",
       "      <th>5</th>\n",
       "      <th>6</th>\n",
       "      <th>7</th>\n",
       "      <th>8</th>\n",
       "      <th>9</th>\n",
       "    </tr>\n",
       "  </thead>\n",
       "  <tbody>\n",
       "    <tr>\n",
       "      <th>0</th>\n",
       "      <td>0</td>\n",
       "      <td>0</td>\n",
       "      <td>1</td>\n",
       "      <td>0</td>\n",
       "      <td>0</td>\n",
       "      <td>0</td>\n",
       "      <td>0</td>\n",
       "      <td>0</td>\n",
       "      <td>0</td>\n",
       "      <td>0</td>\n",
       "    </tr>\n",
       "    <tr>\n",
       "      <th>1</th>\n",
       "      <td>0</td>\n",
       "      <td>0</td>\n",
       "      <td>0</td>\n",
       "      <td>0</td>\n",
       "      <td>0</td>\n",
       "      <td>0</td>\n",
       "      <td>0</td>\n",
       "      <td>0</td>\n",
       "      <td>0</td>\n",
       "      <td>1</td>\n",
       "    </tr>\n",
       "    <tr>\n",
       "      <th>2</th>\n",
       "      <td>0</td>\n",
       "      <td>0</td>\n",
       "      <td>0</td>\n",
       "      <td>0</td>\n",
       "      <td>0</td>\n",
       "      <td>0</td>\n",
       "      <td>1</td>\n",
       "      <td>0</td>\n",
       "      <td>0</td>\n",
       "      <td>0</td>\n",
       "    </tr>\n",
       "    <tr>\n",
       "      <th>3</th>\n",
       "      <td>1</td>\n",
       "      <td>0</td>\n",
       "      <td>0</td>\n",
       "      <td>0</td>\n",
       "      <td>0</td>\n",
       "      <td>0</td>\n",
       "      <td>0</td>\n",
       "      <td>0</td>\n",
       "      <td>0</td>\n",
       "      <td>0</td>\n",
       "    </tr>\n",
       "    <tr>\n",
       "      <th>4</th>\n",
       "      <td>0</td>\n",
       "      <td>0</td>\n",
       "      <td>0</td>\n",
       "      <td>1</td>\n",
       "      <td>0</td>\n",
       "      <td>0</td>\n",
       "      <td>0</td>\n",
       "      <td>0</td>\n",
       "      <td>0</td>\n",
       "      <td>0</td>\n",
       "    </tr>\n",
       "    <tr>\n",
       "      <th>...</th>\n",
       "      <td>...</td>\n",
       "      <td>...</td>\n",
       "      <td>...</td>\n",
       "      <td>...</td>\n",
       "      <td>...</td>\n",
       "      <td>...</td>\n",
       "      <td>...</td>\n",
       "      <td>...</td>\n",
       "      <td>...</td>\n",
       "      <td>...</td>\n",
       "    </tr>\n",
       "    <tr>\n",
       "      <th>59995</th>\n",
       "      <td>0</td>\n",
       "      <td>0</td>\n",
       "      <td>0</td>\n",
       "      <td>0</td>\n",
       "      <td>0</td>\n",
       "      <td>0</td>\n",
       "      <td>0</td>\n",
       "      <td>0</td>\n",
       "      <td>0</td>\n",
       "      <td>1</td>\n",
       "    </tr>\n",
       "    <tr>\n",
       "      <th>59996</th>\n",
       "      <td>0</td>\n",
       "      <td>1</td>\n",
       "      <td>0</td>\n",
       "      <td>0</td>\n",
       "      <td>0</td>\n",
       "      <td>0</td>\n",
       "      <td>0</td>\n",
       "      <td>0</td>\n",
       "      <td>0</td>\n",
       "      <td>0</td>\n",
       "    </tr>\n",
       "    <tr>\n",
       "      <th>59997</th>\n",
       "      <td>0</td>\n",
       "      <td>0</td>\n",
       "      <td>0</td>\n",
       "      <td>0</td>\n",
       "      <td>0</td>\n",
       "      <td>0</td>\n",
       "      <td>0</td>\n",
       "      <td>0</td>\n",
       "      <td>1</td>\n",
       "      <td>0</td>\n",
       "    </tr>\n",
       "    <tr>\n",
       "      <th>59998</th>\n",
       "      <td>0</td>\n",
       "      <td>0</td>\n",
       "      <td>0</td>\n",
       "      <td>0</td>\n",
       "      <td>0</td>\n",
       "      <td>0</td>\n",
       "      <td>0</td>\n",
       "      <td>0</td>\n",
       "      <td>1</td>\n",
       "      <td>0</td>\n",
       "    </tr>\n",
       "    <tr>\n",
       "      <th>59999</th>\n",
       "      <td>0</td>\n",
       "      <td>0</td>\n",
       "      <td>0</td>\n",
       "      <td>0</td>\n",
       "      <td>0</td>\n",
       "      <td>0</td>\n",
       "      <td>0</td>\n",
       "      <td>1</td>\n",
       "      <td>0</td>\n",
       "      <td>0</td>\n",
       "    </tr>\n",
       "  </tbody>\n",
       "</table>\n",
       "<p>60000 rows × 10 columns</p>\n",
       "</div>"
      ],
      "text/plain": [
       "       0  1  2  3  4  5  6  7  8  9\n",
       "0      0  0  1  0  0  0  0  0  0  0\n",
       "1      0  0  0  0  0  0  0  0  0  1\n",
       "2      0  0  0  0  0  0  1  0  0  0\n",
       "3      1  0  0  0  0  0  0  0  0  0\n",
       "4      0  0  0  1  0  0  0  0  0  0\n",
       "...   .. .. .. .. .. .. .. .. .. ..\n",
       "59995  0  0  0  0  0  0  0  0  0  1\n",
       "59996  0  1  0  0  0  0  0  0  0  0\n",
       "59997  0  0  0  0  0  0  0  0  1  0\n",
       "59998  0  0  0  0  0  0  0  0  1  0\n",
       "59999  0  0  0  0  0  0  0  1  0  0\n",
       "\n",
       "[60000 rows x 10 columns]"
      ]
     },
     "execution_count": 256,
     "metadata": {},
     "output_type": "execute_result"
    }
   ],
   "source": [
    "train_y_dummy"
   ]
  },
  {
   "cell_type": "code",
   "execution_count": null,
   "metadata": {},
   "outputs": [],
   "source": []
  },
  {
   "cell_type": "code",
   "execution_count": 258,
   "metadata": {},
   "outputs": [],
   "source": [
    "model_3_ann=Sequential()\n",
    "model_3_ann.add(Dense(500,input_dim=784,activation='relu'))\n",
    "model_3_ann.add(Dense(200,activation='relu'))\n",
    "model_3_ann.add(Dense(10,activation='softmax'))\n",
    "model_3_ann.compile(loss='categorical_crossentropy',optimizer='adam',metrics=['accuracy'])"
   ]
  },
  {
   "cell_type": "code",
   "execution_count": null,
   "metadata": {},
   "outputs": [],
   "source": []
  },
  {
   "cell_type": "code",
   "execution_count": 259,
   "metadata": {},
   "outputs": [
    {
     "name": "stdout",
     "output_type": "stream",
     "text": [
      "Epoch 1/15\n",
      "1500/1500 [==============================] - 6s 4ms/step - loss: 0.6144 - accuracy: 0.7838 - val_loss: 0.4734 - val_accuracy: 0.8289\n",
      "Epoch 2/15\n",
      "1500/1500 [==============================] - 4s 3ms/step - loss: 0.3760 - accuracy: 0.8615 - val_loss: 0.3786 - val_accuracy: 0.8593\n",
      "Epoch 3/15\n",
      "1500/1500 [==============================] - 5s 3ms/step - loss: 0.3342 - accuracy: 0.8767 - val_loss: 0.3646 - val_accuracy: 0.8698\n",
      "Epoch 4/15\n",
      "1500/1500 [==============================] - 5s 4ms/step - loss: 0.3079 - accuracy: 0.8855 - val_loss: 0.3439 - val_accuracy: 0.8764\n",
      "Epoch 5/15\n",
      "1500/1500 [==============================] - 7s 5ms/step - loss: 0.2873 - accuracy: 0.8916 - val_loss: 0.3236 - val_accuracy: 0.8857\n",
      "Epoch 6/15\n",
      "1500/1500 [==============================] - 6s 4ms/step - loss: 0.2720 - accuracy: 0.8966 - val_loss: 0.3350 - val_accuracy: 0.8788\n",
      "Epoch 7/15\n",
      "1500/1500 [==============================] - 6s 4ms/step - loss: 0.2564 - accuracy: 0.9031 - val_loss: 0.3299 - val_accuracy: 0.8833\n",
      "Epoch 8/15\n",
      "1500/1500 [==============================] - 6s 4ms/step - loss: 0.2437 - accuracy: 0.9070 - val_loss: 0.3453 - val_accuracy: 0.8848\n",
      "Epoch 9/15\n",
      "1500/1500 [==============================] - 7s 4ms/step - loss: 0.2355 - accuracy: 0.9108 - val_loss: 0.3248 - val_accuracy: 0.8902\n",
      "Epoch 10/15\n",
      "1500/1500 [==============================] - 6s 4ms/step - loss: 0.2220 - accuracy: 0.9141 - val_loss: 0.3282 - val_accuracy: 0.8925\n",
      "Epoch 11/15\n",
      "1500/1500 [==============================] - 6s 4ms/step - loss: 0.2094 - accuracy: 0.9207 - val_loss: 0.3323 - val_accuracy: 0.8871\n",
      "Epoch 12/15\n",
      "1500/1500 [==============================] - 7s 4ms/step - loss: 0.2086 - accuracy: 0.9206 - val_loss: 0.3502 - val_accuracy: 0.8913\n",
      "Epoch 13/15\n",
      "1500/1500 [==============================] - 8s 5ms/step - loss: 0.1944 - accuracy: 0.9258 - val_loss: 0.3507 - val_accuracy: 0.8808\n",
      "Epoch 14/15\n",
      "1500/1500 [==============================] - 7s 5ms/step - loss: 0.1934 - accuracy: 0.9266 - val_loss: 0.3256 - val_accuracy: 0.8940\n",
      "Epoch 15/15\n",
      "1500/1500 [==============================] - 7s 4ms/step - loss: 0.1783 - accuracy: 0.9316 - val_loss: 0.3347 - val_accuracy: 0.8952\n"
     ]
    }
   ],
   "source": [
    "history_3_ann = model_3_ann.fit(train_x,train_y_dummy,validation_split = 0.2,epochs=15,verbose=1)\n"
   ]
  },
  {
   "cell_type": "code",
   "execution_count": 260,
   "metadata": {},
   "outputs": [
    {
     "name": "stdout",
     "output_type": "stream",
     "text": [
      "313/313 [==============================] - 1s 2ms/step - loss: 0.3177 - accuracy: 0.8971\n"
     ]
    }
   ],
   "source": [
    "ann_3_score, accuracy_3_ann = model_3_ann.evaluate(test_x,test_y_dummy)"
   ]
  },
  {
   "cell_type": "code",
   "execution_count": 261,
   "metadata": {},
   "outputs": [
    {
     "data": {
      "text/plain": [
       "0.8970999717712402"
      ]
     },
     "execution_count": 261,
     "metadata": {},
     "output_type": "execute_result"
    }
   ],
   "source": [
    "accuracy_3_ann"
   ]
  },
  {
   "cell_type": "code",
   "execution_count": null,
   "metadata": {},
   "outputs": [],
   "source": []
  },
  {
   "cell_type": "markdown",
   "metadata": {},
   "source": [
    "#### Increase the number of training data to check if the test accuracy for both methods increases"
   ]
  },
  {
   "cell_type": "code",
   "execution_count": 421,
   "metadata": {},
   "outputs": [],
   "source": [
    "train = pd.read_csv('fashion-mnist_train.csv')\n",
    "test = pd.read_csv('fashion-mnist_test.csv')\n",
    "test_x = test.drop('label', axis = 1)/255\n",
    "test_y = test.label\n",
    "test_y_dummy = pd.get_dummies(test_y)"
   ]
  },
  {
   "cell_type": "code",
   "execution_count": 399,
   "metadata": {},
   "outputs": [],
   "source": [
    "def ann(number):\n",
    "    train_y = train[:number].label\n",
    "    \n",
    "    train_x = train[:number].drop('label', axis = 1)/255\n",
    "    \n",
    "    train_y_dummy = pd.get_dummies(train_y)\n",
    "    \n",
    "    es = EarlyStopping(monitor='val_accuracy', mode='max', verbose=1, patience=5) #earlystopping\n",
    "\n",
    "    model_ann=Sequential()\n",
    "    model_ann.add(Dense(500,input_dim=784,activation='relu'))\n",
    "    model_ann.add(Dense(200,activation='relu'))\n",
    "    model_ann.add(Dense(10,activation='softmax'))\n",
    "    model_ann.compile(loss='categorical_crossentropy',optimizer='adam',metrics=['accuracy'])\n",
    "    history_ann = model_ann.fit(train_x,train_y_dummy,validation_split = 0.2,epochs=20,verbose=1, callbacks=[es])\n",
    "    ann_score, accuracy_ann = model_ann.evaluate(test_x,test_y_dummy)\n",
    "    return accuracy_ann"
   ]
  },
  {
   "cell_type": "code",
   "execution_count": null,
   "metadata": {},
   "outputs": [],
   "source": []
  },
  {
   "cell_type": "code",
   "execution_count": 400,
   "metadata": {},
   "outputs": [],
   "source": [
    "training_number = [5000, 10000, 15000, 20000,25000,30000,35000,40000,45000,50000,55000,60000]"
   ]
  },
  {
   "cell_type": "code",
   "execution_count": 401,
   "metadata": {},
   "outputs": [
    {
     "name": "stdout",
     "output_type": "stream",
     "text": [
      "Epoch 1/20\n",
      "125/125 [==============================] - 1s 5ms/step - loss: 1.0336 - accuracy: 0.6358 - val_loss: 0.5740 - val_accuracy: 0.8090\n",
      "Epoch 2/20\n",
      "125/125 [==============================] - 1s 4ms/step - loss: 0.5027 - accuracy: 0.8290 - val_loss: 0.5282 - val_accuracy: 0.8140\n",
      "Epoch 3/20\n",
      "125/125 [==============================] - 1s 5ms/step - loss: 0.4197 - accuracy: 0.8551 - val_loss: 0.5886 - val_accuracy: 0.8000\n",
      "Epoch 4/20\n",
      "125/125 [==============================] - 1s 4ms/step - loss: 0.3980 - accuracy: 0.8575 - val_loss: 0.5494 - val_accuracy: 0.7970\n",
      "Epoch 5/20\n",
      "125/125 [==============================] - 1s 4ms/step - loss: 0.3440 - accuracy: 0.8730 - val_loss: 0.5147 - val_accuracy: 0.8220\n",
      "Epoch 6/20\n",
      "125/125 [==============================] - 0s 4ms/step - loss: 0.3429 - accuracy: 0.8702 - val_loss: 0.4582 - val_accuracy: 0.8350\n",
      "Epoch 7/20\n",
      "125/125 [==============================] - 0s 4ms/step - loss: 0.3021 - accuracy: 0.8866 - val_loss: 0.4849 - val_accuracy: 0.8370\n",
      "Epoch 8/20\n",
      "125/125 [==============================] - 0s 4ms/step - loss: 0.2700 - accuracy: 0.8962 - val_loss: 0.5390 - val_accuracy: 0.8230\n",
      "Epoch 9/20\n",
      "125/125 [==============================] - 0s 4ms/step - loss: 0.2425 - accuracy: 0.9108 - val_loss: 0.5337 - val_accuracy: 0.8420\n",
      "Epoch 10/20\n",
      "125/125 [==============================] - 1s 4ms/step - loss: 0.2382 - accuracy: 0.9094 - val_loss: 0.4765 - val_accuracy: 0.8510\n",
      "Epoch 11/20\n",
      "125/125 [==============================] - 1s 5ms/step - loss: 0.2246 - accuracy: 0.9184 - val_loss: 0.4914 - val_accuracy: 0.8590\n",
      "Epoch 12/20\n",
      "125/125 [==============================] - 0s 4ms/step - loss: 0.2231 - accuracy: 0.9168 - val_loss: 0.5139 - val_accuracy: 0.8370\n",
      "Epoch 13/20\n",
      "125/125 [==============================] - 1s 4ms/step - loss: 0.2106 - accuracy: 0.9201 - val_loss: 0.5390 - val_accuracy: 0.8390\n",
      "Epoch 14/20\n",
      "125/125 [==============================] - 1s 4ms/step - loss: 0.1906 - accuracy: 0.9301 - val_loss: 0.5766 - val_accuracy: 0.8330\n",
      "Epoch 15/20\n",
      "125/125 [==============================] - 0s 4ms/step - loss: 0.1830 - accuracy: 0.9336 - val_loss: 0.5781 - val_accuracy: 0.8470\n",
      "Epoch 16/20\n",
      "125/125 [==============================] - 1s 4ms/step - loss: 0.2014 - accuracy: 0.9194 - val_loss: 0.5773 - val_accuracy: 0.8360\n",
      "Epoch 00016: early stopping\n",
      "313/313 [==============================] - 1s 2ms/step - loss: 0.5499 - accuracy: 0.8407\n",
      "Epoch 1/20\n",
      "250/250 [==============================] - 2s 5ms/step - loss: 0.8837 - accuracy: 0.6878 - val_loss: 0.5385 - val_accuracy: 0.7990\n",
      "Epoch 2/20\n",
      "250/250 [==============================] - 1s 4ms/step - loss: 0.4943 - accuracy: 0.8258 - val_loss: 0.4564 - val_accuracy: 0.8330\n",
      "Epoch 3/20\n",
      "250/250 [==============================] - 1s 4ms/step - loss: 0.4087 - accuracy: 0.8540 - val_loss: 0.4512 - val_accuracy: 0.8365\n",
      "Epoch 4/20\n",
      "250/250 [==============================] - 1s 4ms/step - loss: 0.3744 - accuracy: 0.8672 - val_loss: 0.4361 - val_accuracy: 0.8470\n",
      "Epoch 5/20\n",
      "250/250 [==============================] - 1s 4ms/step - loss: 0.3232 - accuracy: 0.8788 - val_loss: 0.4204 - val_accuracy: 0.8455\n",
      "Epoch 6/20\n",
      "250/250 [==============================] - 1s 4ms/step - loss: 0.3352 - accuracy: 0.8728 - val_loss: 0.4050 - val_accuracy: 0.8510\n",
      "Epoch 7/20\n",
      "250/250 [==============================] - 1s 4ms/step - loss: 0.2935 - accuracy: 0.8924 - val_loss: 0.4077 - val_accuracy: 0.8540\n",
      "Epoch 8/20\n",
      "250/250 [==============================] - 1s 4ms/step - loss: 0.2641 - accuracy: 0.8981 - val_loss: 0.4204 - val_accuracy: 0.8505\n",
      "Epoch 9/20\n",
      "250/250 [==============================] - 1s 4ms/step - loss: 0.2515 - accuracy: 0.9043 - val_loss: 0.4423 - val_accuracy: 0.8390\n",
      "Epoch 10/20\n",
      "250/250 [==============================] - 1s 4ms/step - loss: 0.2424 - accuracy: 0.9067 - val_loss: 0.4286 - val_accuracy: 0.8530\n",
      "Epoch 11/20\n",
      "250/250 [==============================] - 1s 4ms/step - loss: 0.2397 - accuracy: 0.9084 - val_loss: 0.4769 - val_accuracy: 0.8565\n",
      "Epoch 12/20\n",
      "250/250 [==============================] - 1s 4ms/step - loss: 0.2183 - accuracy: 0.9178 - val_loss: 0.4165 - val_accuracy: 0.8615\n",
      "Epoch 13/20\n",
      "250/250 [==============================] - 1s 4ms/step - loss: 0.2024 - accuracy: 0.9272 - val_loss: 0.5054 - val_accuracy: 0.8285\n",
      "Epoch 14/20\n",
      "250/250 [==============================] - 1s 4ms/step - loss: 0.2172 - accuracy: 0.9193 - val_loss: 0.4485 - val_accuracy: 0.8615\n",
      "Epoch 15/20\n",
      "250/250 [==============================] - 1s 4ms/step - loss: 0.1778 - accuracy: 0.9330 - val_loss: 0.4677 - val_accuracy: 0.8565\n",
      "Epoch 16/20\n",
      "250/250 [==============================] - 1s 5ms/step - loss: 0.1698 - accuracy: 0.9360 - val_loss: 0.5673 - val_accuracy: 0.8440\n",
      "Epoch 17/20\n",
      "250/250 [==============================] - 1s 5ms/step - loss: 0.1744 - accuracy: 0.9353 - val_loss: 0.4315 - val_accuracy: 0.8585\n",
      "Epoch 00017: early stopping\n",
      "313/313 [==============================] - 1s 2ms/step - loss: 0.4395 - accuracy: 0.8632\n",
      "Epoch 1/20\n",
      "375/375 [==============================] - 2s 4ms/step - loss: 0.8315 - accuracy: 0.6949 - val_loss: 0.5030 - val_accuracy: 0.8227\n",
      "Epoch 2/20\n",
      "375/375 [==============================] - 1s 4ms/step - loss: 0.4561 - accuracy: 0.8383 - val_loss: 0.4550 - val_accuracy: 0.8323\n",
      "Epoch 3/20\n",
      "375/375 [==============================] - 1s 4ms/step - loss: 0.3909 - accuracy: 0.8554 - val_loss: 0.4959 - val_accuracy: 0.8140\n",
      "Epoch 4/20\n",
      "375/375 [==============================] - 2s 4ms/step - loss: 0.3667 - accuracy: 0.8642 - val_loss: 0.3991 - val_accuracy: 0.8523\n",
      "Epoch 5/20\n",
      "375/375 [==============================] - 1s 4ms/step - loss: 0.3352 - accuracy: 0.8776 - val_loss: 0.5156 - val_accuracy: 0.8163\n",
      "Epoch 6/20\n",
      "375/375 [==============================] - 1s 3ms/step - loss: 0.3065 - accuracy: 0.8849 - val_loss: 0.4139 - val_accuracy: 0.8487\n",
      "Epoch 7/20\n",
      "375/375 [==============================] - 1s 3ms/step - loss: 0.2870 - accuracy: 0.8913 - val_loss: 0.4901 - val_accuracy: 0.8337\n",
      "Epoch 8/20\n",
      "375/375 [==============================] - 1s 3ms/step - loss: 0.2781 - accuracy: 0.9001 - val_loss: 0.4292 - val_accuracy: 0.8530\n",
      "Epoch 9/20\n",
      "375/375 [==============================] - 1s 3ms/step - loss: 0.2571 - accuracy: 0.9028 - val_loss: 0.3846 - val_accuracy: 0.8643\n",
      "Epoch 10/20\n",
      "375/375 [==============================] - 1s 4ms/step - loss: 0.2269 - accuracy: 0.9146 - val_loss: 0.4309 - val_accuracy: 0.8620\n",
      "Epoch 11/20\n",
      "375/375 [==============================] - 1s 4ms/step - loss: 0.2375 - accuracy: 0.9064 - val_loss: 0.4168 - val_accuracy: 0.8563\n",
      "Epoch 12/20\n",
      "375/375 [==============================] - 1s 4ms/step - loss: 0.2253 - accuracy: 0.9158 - val_loss: 0.4435 - val_accuracy: 0.8583\n",
      "Epoch 13/20\n",
      "375/375 [==============================] - 1s 4ms/step - loss: 0.2071 - accuracy: 0.9207 - val_loss: 0.4620 - val_accuracy: 0.8587\n",
      "Epoch 14/20\n",
      "375/375 [==============================] - 1s 4ms/step - loss: 0.2043 - accuracy: 0.9224 - val_loss: 0.4262 - val_accuracy: 0.8627\n",
      "Epoch 00014: early stopping\n",
      "313/313 [==============================] - 1s 2ms/step - loss: 0.4071 - accuracy: 0.8602\n",
      "Epoch 1/20\n",
      "500/500 [==============================] - 2s 4ms/step - loss: 0.7697 - accuracy: 0.7264 - val_loss: 0.4632 - val_accuracy: 0.8322\n",
      "Epoch 2/20\n",
      "500/500 [==============================] - 2s 3ms/step - loss: 0.4313 - accuracy: 0.8445 - val_loss: 0.4911 - val_accuracy: 0.8270\n",
      "Epoch 3/20\n",
      "500/500 [==============================] - 2s 4ms/step - loss: 0.3912 - accuracy: 0.8543 - val_loss: 0.4536 - val_accuracy: 0.8430\n",
      "Epoch 4/20\n",
      "500/500 [==============================] - 2s 4ms/step - loss: 0.3507 - accuracy: 0.8673 - val_loss: 0.3849 - val_accuracy: 0.8615\n",
      "Epoch 5/20\n",
      "500/500 [==============================] - 2s 4ms/step - loss: 0.3177 - accuracy: 0.8817 - val_loss: 0.3954 - val_accuracy: 0.8572\n",
      "Epoch 6/20\n",
      "500/500 [==============================] - 2s 4ms/step - loss: 0.3140 - accuracy: 0.8833 - val_loss: 0.4184 - val_accuracy: 0.8525\n",
      "Epoch 7/20\n",
      "500/500 [==============================] - 2s 4ms/step - loss: 0.2802 - accuracy: 0.8959 - val_loss: 0.4319 - val_accuracy: 0.8440\n",
      "Epoch 8/20\n",
      "500/500 [==============================] - 2s 4ms/step - loss: 0.2768 - accuracy: 0.8974 - val_loss: 0.3731 - val_accuracy: 0.8605\n",
      "Epoch 9/20\n",
      "500/500 [==============================] - 2s 3ms/step - loss: 0.2552 - accuracy: 0.9063 - val_loss: 0.4077 - val_accuracy: 0.8627\n",
      "Epoch 10/20\n",
      "500/500 [==============================] - 2s 4ms/step - loss: 0.2388 - accuracy: 0.9095 - val_loss: 0.4213 - val_accuracy: 0.8608\n",
      "Epoch 11/20\n",
      "500/500 [==============================] - 2s 4ms/step - loss: 0.2284 - accuracy: 0.9140 - val_loss: 0.4362 - val_accuracy: 0.8553\n",
      "Epoch 12/20\n",
      "500/500 [==============================] - 2s 4ms/step - loss: 0.2182 - accuracy: 0.9167 - val_loss: 0.3923 - val_accuracy: 0.8700\n",
      "Epoch 13/20\n",
      "500/500 [==============================] - 2s 4ms/step - loss: 0.2016 - accuracy: 0.9221 - val_loss: 0.4692 - val_accuracy: 0.8633\n",
      "Epoch 14/20\n",
      "500/500 [==============================] - 2s 4ms/step - loss: 0.2026 - accuracy: 0.9207 - val_loss: 0.4179 - val_accuracy: 0.8648\n",
      "Epoch 15/20\n",
      "500/500 [==============================] - 2s 4ms/step - loss: 0.1822 - accuracy: 0.9295 - val_loss: 0.4184 - val_accuracy: 0.8677\n",
      "Epoch 16/20\n",
      "500/500 [==============================] - 2s 4ms/step - loss: 0.1893 - accuracy: 0.9256 - val_loss: 0.4250 - val_accuracy: 0.8643\n",
      "Epoch 17/20\n",
      "500/500 [==============================] - 2s 4ms/step - loss: 0.1753 - accuracy: 0.9327 - val_loss: 0.3925 - val_accuracy: 0.8808\n",
      "Epoch 18/20\n",
      "500/500 [==============================] - 2s 4ms/step - loss: 0.1540 - accuracy: 0.9418 - val_loss: 0.4384 - val_accuracy: 0.8740\n",
      "Epoch 19/20\n",
      "500/500 [==============================] - 2s 4ms/step - loss: 0.1443 - accuracy: 0.9451 - val_loss: 0.4271 - val_accuracy: 0.8767\n",
      "Epoch 20/20\n",
      "500/500 [==============================] - 2s 5ms/step - loss: 0.1513 - accuracy: 0.9439 - val_loss: 0.4229 - val_accuracy: 0.8767\n",
      "313/313 [==============================] - 1s 2ms/step - loss: 0.4427 - accuracy: 0.8734\n",
      "Epoch 1/20\n",
      "625/625 [==============================] - 3s 4ms/step - loss: 0.7462 - accuracy: 0.7312 - val_loss: 0.5037 - val_accuracy: 0.8066\n",
      "Epoch 2/20\n",
      "625/625 [==============================] - 2s 4ms/step - loss: 0.4249 - accuracy: 0.8461 - val_loss: 0.4026 - val_accuracy: 0.8478\n",
      "Epoch 3/20\n",
      "625/625 [==============================] - 2s 4ms/step - loss: 0.3824 - accuracy: 0.8602 - val_loss: 0.4098 - val_accuracy: 0.8484\n",
      "Epoch 4/20\n",
      "625/625 [==============================] - 2s 4ms/step - loss: 0.3354 - accuracy: 0.8738 - val_loss: 0.3891 - val_accuracy: 0.8556\n",
      "Epoch 5/20\n",
      "625/625 [==============================] - 2s 4ms/step - loss: 0.3290 - accuracy: 0.8764 - val_loss: 0.3478 - val_accuracy: 0.8754\n",
      "Epoch 6/20\n",
      "625/625 [==============================] - 2s 4ms/step - loss: 0.3012 - accuracy: 0.8846 - val_loss: 0.3402 - val_accuracy: 0.8736\n",
      "Epoch 7/20\n",
      "625/625 [==============================] - 2s 4ms/step - loss: 0.2815 - accuracy: 0.8937 - val_loss: 0.3329 - val_accuracy: 0.8804\n",
      "Epoch 8/20\n",
      "625/625 [==============================] - 2s 4ms/step - loss: 0.2706 - accuracy: 0.8942 - val_loss: 0.3603 - val_accuracy: 0.8682\n",
      "Epoch 9/20\n",
      "625/625 [==============================] - 2s 4ms/step - loss: 0.2464 - accuracy: 0.9068 - val_loss: 0.3546 - val_accuracy: 0.8770\n",
      "Epoch 10/20\n",
      "625/625 [==============================] - 2s 4ms/step - loss: 0.2361 - accuracy: 0.9086 - val_loss: 0.3426 - val_accuracy: 0.8770\n",
      "Epoch 11/20\n",
      "625/625 [==============================] - 2s 4ms/step - loss: 0.2260 - accuracy: 0.9129 - val_loss: 0.3600 - val_accuracy: 0.8786\n",
      "Epoch 12/20\n",
      "625/625 [==============================] - 2s 4ms/step - loss: 0.2196 - accuracy: 0.9156 - val_loss: 0.3613 - val_accuracy: 0.8812\n",
      "Epoch 13/20\n",
      "625/625 [==============================] - 2s 4ms/step - loss: 0.1977 - accuracy: 0.9233 - val_loss: 0.3395 - val_accuracy: 0.8824\n",
      "Epoch 14/20\n",
      "625/625 [==============================] - 3s 5ms/step - loss: 0.1902 - accuracy: 0.9280 - val_loss: 0.3918 - val_accuracy: 0.8736\n",
      "Epoch 15/20\n",
      "625/625 [==============================] - 2s 3ms/step - loss: 0.1944 - accuracy: 0.9282 - val_loss: 0.3951 - val_accuracy: 0.8762\n",
      "Epoch 16/20\n",
      "625/625 [==============================] - 2s 3ms/step - loss: 0.1765 - accuracy: 0.9312 - val_loss: 0.4014 - val_accuracy: 0.8790\n",
      "Epoch 17/20\n",
      "625/625 [==============================] - 2s 4ms/step - loss: 0.1726 - accuracy: 0.9324 - val_loss: 0.3725 - val_accuracy: 0.8798\n",
      "Epoch 18/20\n",
      "625/625 [==============================] - 2s 4ms/step - loss: 0.1667 - accuracy: 0.9377 - val_loss: 0.4132 - val_accuracy: 0.8728\n",
      "Epoch 00018: early stopping\n",
      "313/313 [==============================] - 1s 2ms/step - loss: 0.4419 - accuracy: 0.8749\n",
      "Epoch 1/20\n",
      "750/750 [==============================] - 3s 4ms/step - loss: 0.7059 - accuracy: 0.7493 - val_loss: 0.4908 - val_accuracy: 0.8242\n",
      "Epoch 2/20\n",
      "750/750 [==============================] - 3s 4ms/step - loss: 0.4142 - accuracy: 0.8514 - val_loss: 0.4349 - val_accuracy: 0.8507\n",
      "Epoch 3/20\n",
      "750/750 [==============================] - 3s 4ms/step - loss: 0.3648 - accuracy: 0.8640 - val_loss: 0.3853 - val_accuracy: 0.8655\n",
      "Epoch 4/20\n",
      "750/750 [==============================] - 3s 4ms/step - loss: 0.3238 - accuracy: 0.8776 - val_loss: 0.3950 - val_accuracy: 0.8637\n",
      "Epoch 5/20\n",
      "750/750 [==============================] - 3s 4ms/step - loss: 0.2999 - accuracy: 0.8861 - val_loss: 0.3864 - val_accuracy: 0.8645\n",
      "Epoch 6/20\n",
      "750/750 [==============================] - 3s 4ms/step - loss: 0.2961 - accuracy: 0.8875 - val_loss: 0.3463 - val_accuracy: 0.8780\n",
      "Epoch 7/20\n",
      "750/750 [==============================] - 3s 4ms/step - loss: 0.2719 - accuracy: 0.8973 - val_loss: 0.3767 - val_accuracy: 0.8682\n",
      "Epoch 8/20\n",
      "750/750 [==============================] - 3s 4ms/step - loss: 0.2578 - accuracy: 0.9009 - val_loss: 0.3544 - val_accuracy: 0.8833\n",
      "Epoch 9/20\n",
      "750/750 [==============================] - 3s 4ms/step - loss: 0.2455 - accuracy: 0.9049 - val_loss: 0.3645 - val_accuracy: 0.8757\n",
      "Epoch 10/20\n",
      "750/750 [==============================] - 3s 4ms/step - loss: 0.2295 - accuracy: 0.9144 - val_loss: 0.3327 - val_accuracy: 0.8855\n",
      "Epoch 11/20\n",
      "750/750 [==============================] - 3s 4ms/step - loss: 0.2183 - accuracy: 0.9175 - val_loss: 0.3495 - val_accuracy: 0.8817\n",
      "Epoch 12/20\n",
      "750/750 [==============================] - 3s 4ms/step - loss: 0.2221 - accuracy: 0.9124 - val_loss: 0.3629 - val_accuracy: 0.8797\n",
      "Epoch 13/20\n",
      "750/750 [==============================] - 3s 4ms/step - loss: 0.2026 - accuracy: 0.9216 - val_loss: 0.4162 - val_accuracy: 0.8690\n",
      "Epoch 14/20\n",
      "750/750 [==============================] - 3s 4ms/step - loss: 0.1992 - accuracy: 0.9218 - val_loss: 0.3668 - val_accuracy: 0.8870\n",
      "Epoch 15/20\n",
      "750/750 [==============================] - 3s 4ms/step - loss: 0.1863 - accuracy: 0.9275 - val_loss: 0.3973 - val_accuracy: 0.8787\n",
      "Epoch 16/20\n",
      "750/750 [==============================] - 3s 4ms/step - loss: 0.1831 - accuracy: 0.9306 - val_loss: 0.3954 - val_accuracy: 0.8833\n",
      "Epoch 17/20\n",
      "750/750 [==============================] - 3s 4ms/step - loss: 0.1652 - accuracy: 0.9357 - val_loss: 0.4130 - val_accuracy: 0.8767\n",
      "Epoch 18/20\n",
      "750/750 [==============================] - 3s 3ms/step - loss: 0.1660 - accuracy: 0.9363 - val_loss: 0.4514 - val_accuracy: 0.8730\n",
      "Epoch 19/20\n",
      "750/750 [==============================] - 3s 4ms/step - loss: 0.1671 - accuracy: 0.9370 - val_loss: 0.4198 - val_accuracy: 0.8913\n",
      "Epoch 20/20\n",
      "750/750 [==============================] - 3s 4ms/step - loss: 0.1521 - accuracy: 0.9415 - val_loss: 0.4573 - val_accuracy: 0.8852\n",
      "313/313 [==============================] - 1s 2ms/step - loss: 0.4467 - accuracy: 0.8818\n",
      "Epoch 1/20\n",
      "875/875 [==============================] - 4s 4ms/step - loss: 0.6865 - accuracy: 0.7524 - val_loss: 0.4426 - val_accuracy: 0.8334\n",
      "Epoch 2/20\n",
      "875/875 [==============================] - 3s 4ms/step - loss: 0.3930 - accuracy: 0.8552 - val_loss: 0.3986 - val_accuracy: 0.8547\n",
      "Epoch 3/20\n",
      "875/875 [==============================] - 3s 4ms/step - loss: 0.3476 - accuracy: 0.8688 - val_loss: 0.3823 - val_accuracy: 0.8613\n",
      "Epoch 4/20\n",
      "875/875 [==============================] - 3s 3ms/step - loss: 0.3297 - accuracy: 0.8770 - val_loss: 0.3567 - val_accuracy: 0.8744\n",
      "Epoch 5/20\n",
      "875/875 [==============================] - 3s 4ms/step - loss: 0.3054 - accuracy: 0.8860 - val_loss: 0.3762 - val_accuracy: 0.8630\n",
      "Epoch 6/20\n",
      "875/875 [==============================] - 4s 4ms/step - loss: 0.2825 - accuracy: 0.8919 - val_loss: 0.3693 - val_accuracy: 0.8699\n",
      "Epoch 7/20\n",
      "875/875 [==============================] - 3s 4ms/step - loss: 0.2709 - accuracy: 0.8962 - val_loss: 0.3883 - val_accuracy: 0.8694\n",
      "Epoch 8/20\n",
      "875/875 [==============================] - 3s 3ms/step - loss: 0.2465 - accuracy: 0.9069 - val_loss: 0.4042 - val_accuracy: 0.8609\n",
      "Epoch 9/20\n",
      "875/875 [==============================] - 3s 4ms/step - loss: 0.2521 - accuracy: 0.9004 - val_loss: 0.3508 - val_accuracy: 0.8829\n",
      "Epoch 10/20\n",
      "875/875 [==============================] - 3s 4ms/step - loss: 0.2305 - accuracy: 0.9098 - val_loss: 0.3910 - val_accuracy: 0.8739\n",
      "Epoch 11/20\n",
      "875/875 [==============================] - 3s 3ms/step - loss: 0.2243 - accuracy: 0.9143 - val_loss: 0.3499 - val_accuracy: 0.8877\n",
      "Epoch 12/20\n",
      "875/875 [==============================] - 3s 3ms/step - loss: 0.2136 - accuracy: 0.9183 - val_loss: 0.3701 - val_accuracy: 0.8819\n",
      "Epoch 13/20\n",
      "875/875 [==============================] - 3s 3ms/step - loss: 0.2067 - accuracy: 0.9216 - val_loss: 0.3722 - val_accuracy: 0.8773\n",
      "Epoch 14/20\n",
      "875/875 [==============================] - 2s 3ms/step - loss: 0.1917 - accuracy: 0.9276 - val_loss: 0.3621 - val_accuracy: 0.8916\n",
      "Epoch 15/20\n",
      "875/875 [==============================] - 3s 3ms/step - loss: 0.1889 - accuracy: 0.9279 - val_loss: 0.3894 - val_accuracy: 0.8907\n",
      "Epoch 16/20\n",
      "875/875 [==============================] - 3s 3ms/step - loss: 0.1839 - accuracy: 0.9285 - val_loss: 0.4228 - val_accuracy: 0.8810\n",
      "Epoch 17/20\n",
      "875/875 [==============================] - 3s 3ms/step - loss: 0.1727 - accuracy: 0.9348 - val_loss: 0.4350 - val_accuracy: 0.8721\n",
      "Epoch 18/20\n",
      "875/875 [==============================] - 3s 3ms/step - loss: 0.1676 - accuracy: 0.9336 - val_loss: 0.3996 - val_accuracy: 0.8886\n",
      "Epoch 19/20\n",
      "875/875 [==============================] - 3s 3ms/step - loss: 0.1593 - accuracy: 0.9385 - val_loss: 0.4317 - val_accuracy: 0.8853\n",
      "Epoch 00019: early stopping\n",
      "313/313 [==============================] - 0s 1ms/step - loss: 0.4326 - accuracy: 0.8816\n",
      "Epoch 1/20\n",
      "1000/1000 [==============================] - 4s 3ms/step - loss: 0.6555 - accuracy: 0.7706 - val_loss: 0.4045 - val_accuracy: 0.8560\n",
      "Epoch 2/20\n",
      "1000/1000 [==============================] - 3s 3ms/step - loss: 0.4062 - accuracy: 0.8492 - val_loss: 0.3617 - val_accuracy: 0.8636\n",
      "Epoch 3/20\n",
      "1000/1000 [==============================] - 3s 3ms/step - loss: 0.3529 - accuracy: 0.8694 - val_loss: 0.3548 - val_accuracy: 0.8705\n",
      "Epoch 4/20\n",
      "1000/1000 [==============================] - 3s 3ms/step - loss: 0.3186 - accuracy: 0.8827 - val_loss: 0.3510 - val_accuracy: 0.8723\n",
      "Epoch 5/20\n",
      "1000/1000 [==============================] - 3s 3ms/step - loss: 0.3016 - accuracy: 0.8890 - val_loss: 0.3532 - val_accuracy: 0.8689\n",
      "Epoch 6/20\n",
      "1000/1000 [==============================] - 3s 3ms/step - loss: 0.2831 - accuracy: 0.8940 - val_loss: 0.3354 - val_accuracy: 0.8783\n",
      "Epoch 7/20\n",
      "1000/1000 [==============================] - 3s 3ms/step - loss: 0.2661 - accuracy: 0.8999 - val_loss: 0.3330 - val_accuracy: 0.8779\n",
      "Epoch 8/20\n",
      "1000/1000 [==============================] - 3s 3ms/step - loss: 0.2461 - accuracy: 0.9083 - val_loss: 0.3615 - val_accuracy: 0.8739\n",
      "Epoch 9/20\n",
      "1000/1000 [==============================] - 3s 3ms/step - loss: 0.2433 - accuracy: 0.9062 - val_loss: 0.3325 - val_accuracy: 0.8845\n",
      "Epoch 10/20\n",
      "1000/1000 [==============================] - 3s 3ms/step - loss: 0.2254 - accuracy: 0.9121 - val_loss: 0.3448 - val_accuracy: 0.8863\n",
      "Epoch 11/20\n",
      "1000/1000 [==============================] - 3s 3ms/step - loss: 0.2228 - accuracy: 0.9141 - val_loss: 0.3320 - val_accuracy: 0.8928\n",
      "Epoch 12/20\n",
      "1000/1000 [==============================] - 3s 3ms/step - loss: 0.2029 - accuracy: 0.9212 - val_loss: 0.3351 - val_accuracy: 0.8852\n",
      "Epoch 13/20\n",
      "1000/1000 [==============================] - 3s 3ms/step - loss: 0.1963 - accuracy: 0.9257 - val_loss: 0.3405 - val_accuracy: 0.8925\n",
      "Epoch 14/20\n",
      "1000/1000 [==============================] - 3s 3ms/step - loss: 0.1907 - accuracy: 0.9279 - val_loss: 0.3621 - val_accuracy: 0.8801\n",
      "Epoch 15/20\n",
      "1000/1000 [==============================] - 4s 4ms/step - loss: 0.1887 - accuracy: 0.9284 - val_loss: 0.3850 - val_accuracy: 0.8842\n",
      "Epoch 16/20\n",
      "1000/1000 [==============================] - 3s 3ms/step - loss: 0.1750 - accuracy: 0.9309 - val_loss: 0.3971 - val_accuracy: 0.8813\n",
      "Epoch 00016: early stopping\n",
      "313/313 [==============================] - 1s 2ms/step - loss: 0.3847 - accuracy: 0.8845\n",
      "Epoch 1/20\n",
      "1125/1125 [==============================] - 4s 4ms/step - loss: 0.6548 - accuracy: 0.7665 - val_loss: 0.4151 - val_accuracy: 0.8500\n",
      "Epoch 2/20\n",
      "1125/1125 [==============================] - 4s 3ms/step - loss: 0.3947 - accuracy: 0.8533 - val_loss: 0.3904 - val_accuracy: 0.8596\n",
      "Epoch 3/20\n",
      "1125/1125 [==============================] - 4s 3ms/step - loss: 0.3446 - accuracy: 0.8720 - val_loss: 0.3575 - val_accuracy: 0.8711\n",
      "Epoch 4/20\n",
      "1125/1125 [==============================] - 3s 3ms/step - loss: 0.3189 - accuracy: 0.8800 - val_loss: 0.3636 - val_accuracy: 0.8692\n",
      "Epoch 5/20\n",
      "1125/1125 [==============================] - 4s 3ms/step - loss: 0.2916 - accuracy: 0.8921 - val_loss: 0.3933 - val_accuracy: 0.8611\n",
      "Epoch 6/20\n",
      "1125/1125 [==============================] - 4s 3ms/step - loss: 0.2867 - accuracy: 0.8940 - val_loss: 0.3540 - val_accuracy: 0.8790\n",
      "Epoch 7/20\n",
      "1125/1125 [==============================] - 3s 3ms/step - loss: 0.2653 - accuracy: 0.8991 - val_loss: 0.3831 - val_accuracy: 0.8626\n",
      "Epoch 8/20\n",
      "1125/1125 [==============================] - 3s 3ms/step - loss: 0.2502 - accuracy: 0.9019 - val_loss: 0.3231 - val_accuracy: 0.8854\n",
      "Epoch 9/20\n",
      "1125/1125 [==============================] - 3s 3ms/step - loss: 0.2393 - accuracy: 0.9075 - val_loss: 0.3367 - val_accuracy: 0.8837\n",
      "Epoch 10/20\n",
      "1125/1125 [==============================] - 4s 3ms/step - loss: 0.2306 - accuracy: 0.9132 - val_loss: 0.3429 - val_accuracy: 0.8849\n",
      "Epoch 11/20\n",
      "1125/1125 [==============================] - 4s 3ms/step - loss: 0.2208 - accuracy: 0.9153 - val_loss: 0.3445 - val_accuracy: 0.8899\n",
      "Epoch 12/20\n",
      "1125/1125 [==============================] - 5s 4ms/step - loss: 0.2037 - accuracy: 0.9204 - val_loss: 0.3452 - val_accuracy: 0.8868\n",
      "Epoch 13/20\n",
      "1125/1125 [==============================] - 6s 5ms/step - loss: 0.2048 - accuracy: 0.9231 - val_loss: 0.3552 - val_accuracy: 0.8864\n",
      "Epoch 14/20\n",
      "1125/1125 [==============================] - 5s 4ms/step - loss: 0.1926 - accuracy: 0.9241 - val_loss: 0.3498 - val_accuracy: 0.8836\n",
      "Epoch 15/20\n",
      "1125/1125 [==============================] - 4s 4ms/step - loss: 0.1928 - accuracy: 0.9276 - val_loss: 0.3365 - val_accuracy: 0.8909\n",
      "Epoch 16/20\n",
      "1125/1125 [==============================] - 4s 4ms/step - loss: 0.1741 - accuracy: 0.9309 - val_loss: 0.3513 - val_accuracy: 0.8879\n",
      "Epoch 17/20\n",
      "1125/1125 [==============================] - 4s 4ms/step - loss: 0.1741 - accuracy: 0.9327 - val_loss: 0.3954 - val_accuracy: 0.8804\n",
      "Epoch 18/20\n",
      "1125/1125 [==============================] - 4s 4ms/step - loss: 0.1616 - accuracy: 0.9379 - val_loss: 0.3784 - val_accuracy: 0.8916\n",
      "Epoch 19/20\n",
      "1125/1125 [==============================] - 4s 3ms/step - loss: 0.1539 - accuracy: 0.9408 - val_loss: 0.3622 - val_accuracy: 0.8927\n",
      "Epoch 20/20\n",
      "1125/1125 [==============================] - 4s 4ms/step - loss: 0.1504 - accuracy: 0.9417 - val_loss: 0.4007 - val_accuracy: 0.8890\n",
      "313/313 [==============================] - 1s 2ms/step - loss: 0.3945 - accuracy: 0.8894\n",
      "Epoch 1/20\n",
      "1250/1250 [==============================] - 5s 4ms/step - loss: 0.6460 - accuracy: 0.7715 - val_loss: 0.4210 - val_accuracy: 0.8474\n",
      "Epoch 2/20\n",
      "1250/1250 [==============================] - 4s 3ms/step - loss: 0.3809 - accuracy: 0.8617 - val_loss: 0.3780 - val_accuracy: 0.8655\n",
      "Epoch 3/20\n",
      "1250/1250 [==============================] - 4s 3ms/step - loss: 0.3388 - accuracy: 0.8747 - val_loss: 0.3748 - val_accuracy: 0.8645\n",
      "Epoch 4/20\n",
      "1250/1250 [==============================] - 5s 4ms/step - loss: 0.3109 - accuracy: 0.8863 - val_loss: 0.3528 - val_accuracy: 0.8726\n",
      "Epoch 5/20\n",
      "1250/1250 [==============================] - 4s 4ms/step - loss: 0.3011 - accuracy: 0.8866 - val_loss: 0.3675 - val_accuracy: 0.8658\n",
      "Epoch 6/20\n",
      "1250/1250 [==============================] - 5s 4ms/step - loss: 0.2710 - accuracy: 0.8981 - val_loss: 0.3297 - val_accuracy: 0.8877\n",
      "Epoch 7/20\n",
      "1250/1250 [==============================] - 5s 4ms/step - loss: 0.2634 - accuracy: 0.8997 - val_loss: 0.3380 - val_accuracy: 0.8818\n",
      "Epoch 8/20\n",
      "1250/1250 [==============================] - 5s 4ms/step - loss: 0.2466 - accuracy: 0.9057 - val_loss: 0.3319 - val_accuracy: 0.8834\n",
      "Epoch 9/20\n",
      "1250/1250 [==============================] - 4s 4ms/step - loss: 0.2391 - accuracy: 0.9088 - val_loss: 0.3404 - val_accuracy: 0.8860\n",
      "Epoch 10/20\n",
      "1250/1250 [==============================] - 4s 4ms/step - loss: 0.2241 - accuracy: 0.9151 - val_loss: 0.3611 - val_accuracy: 0.8749\n",
      "Epoch 11/20\n",
      "1250/1250 [==============================] - 5s 4ms/step - loss: 0.2153 - accuracy: 0.9193 - val_loss: 0.3452 - val_accuracy: 0.8867\n",
      "Epoch 00011: early stopping\n",
      "313/313 [==============================] - 0s 2ms/step - loss: 0.3289 - accuracy: 0.8862\n",
      "Epoch 1/20\n",
      "1375/1375 [==============================] - 5s 4ms/step - loss: 0.6227 - accuracy: 0.7748 - val_loss: 0.4033 - val_accuracy: 0.8553\n",
      "Epoch 2/20\n",
      "1375/1375 [==============================] - 5s 4ms/step - loss: 0.3813 - accuracy: 0.8592 - val_loss: 0.3812 - val_accuracy: 0.8623\n",
      "Epoch 3/20\n",
      "1375/1375 [==============================] - 5s 4ms/step - loss: 0.3392 - accuracy: 0.8720 - val_loss: 0.3632 - val_accuracy: 0.8675\n",
      "Epoch 4/20\n",
      "1375/1375 [==============================] - 5s 4ms/step - loss: 0.3063 - accuracy: 0.8854 - val_loss: 0.3523 - val_accuracy: 0.8717\n",
      "Epoch 5/20\n",
      "1375/1375 [==============================] - 5s 4ms/step - loss: 0.2933 - accuracy: 0.8903 - val_loss: 0.3299 - val_accuracy: 0.8817\n",
      "Epoch 6/20\n",
      "1375/1375 [==============================] - 5s 4ms/step - loss: 0.2707 - accuracy: 0.8973 - val_loss: 0.3333 - val_accuracy: 0.8813\n",
      "Epoch 7/20\n",
      "1375/1375 [==============================] - 5s 4ms/step - loss: 0.2602 - accuracy: 0.9020 - val_loss: 0.3252 - val_accuracy: 0.8832\n",
      "Epoch 8/20\n",
      "1375/1375 [==============================] - 5s 4ms/step - loss: 0.2432 - accuracy: 0.9076 - val_loss: 0.3358 - val_accuracy: 0.8861\n",
      "Epoch 9/20\n",
      "1375/1375 [==============================] - 4s 3ms/step - loss: 0.2435 - accuracy: 0.9070 - val_loss: 0.3528 - val_accuracy: 0.8811\n",
      "Epoch 10/20\n",
      "1375/1375 [==============================] - 5s 4ms/step - loss: 0.2280 - accuracy: 0.9141 - val_loss: 0.3507 - val_accuracy: 0.8827\n",
      "Epoch 11/20\n",
      "1375/1375 [==============================] - 4s 3ms/step - loss: 0.2233 - accuracy: 0.9119 - val_loss: 0.3365 - val_accuracy: 0.8826\n",
      "Epoch 12/20\n",
      "1375/1375 [==============================] - 5s 4ms/step - loss: 0.2045 - accuracy: 0.9211 - val_loss: 0.3431 - val_accuracy: 0.8869\n",
      "Epoch 13/20\n",
      "1375/1375 [==============================] - 5s 4ms/step - loss: 0.2034 - accuracy: 0.9220 - val_loss: 0.3521 - val_accuracy: 0.8864\n",
      "Epoch 14/20\n",
      "1375/1375 [==============================] - 5s 3ms/step - loss: 0.1927 - accuracy: 0.9273 - val_loss: 0.3547 - val_accuracy: 0.8897\n",
      "Epoch 15/20\n",
      "1375/1375 [==============================] - 5s 4ms/step - loss: 0.1829 - accuracy: 0.9303 - val_loss: 0.3716 - val_accuracy: 0.8865\n",
      "Epoch 16/20\n",
      "1375/1375 [==============================] - 5s 4ms/step - loss: 0.1790 - accuracy: 0.9324 - val_loss: 0.3770 - val_accuracy: 0.8867\n",
      "Epoch 17/20\n",
      "1375/1375 [==============================] - 5s 3ms/step - loss: 0.1704 - accuracy: 0.9340 - val_loss: 0.3771 - val_accuracy: 0.8845\n",
      "Epoch 18/20\n",
      "1375/1375 [==============================] - 5s 3ms/step - loss: 0.1668 - accuracy: 0.9346 - val_loss: 0.3704 - val_accuracy: 0.8934\n",
      "Epoch 19/20\n",
      "1375/1375 [==============================] - 5s 4ms/step - loss: 0.1646 - accuracy: 0.9372 - val_loss: 0.3766 - val_accuracy: 0.8956\n",
      "Epoch 20/20\n",
      "1375/1375 [==============================] - 5s 4ms/step - loss: 0.1552 - accuracy: 0.9381 - val_loss: 0.4544 - val_accuracy: 0.8853\n",
      "313/313 [==============================] - 0s 1ms/step - loss: 0.4102 - accuracy: 0.8856\n",
      "Epoch 1/20\n",
      "1500/1500 [==============================] - 6s 4ms/step - loss: 0.6070 - accuracy: 0.7824 - val_loss: 0.4532 - val_accuracy: 0.8349\n",
      "Epoch 2/20\n",
      "1500/1500 [==============================] - 5s 3ms/step - loss: 0.3816 - accuracy: 0.8588 - val_loss: 0.4094 - val_accuracy: 0.8512\n",
      "Epoch 3/20\n",
      "1500/1500 [==============================] - 5s 3ms/step - loss: 0.3366 - accuracy: 0.8753 - val_loss: 0.3344 - val_accuracy: 0.8788\n",
      "Epoch 4/20\n",
      "1500/1500 [==============================] - 5s 4ms/step - loss: 0.3070 - accuracy: 0.8844 - val_loss: 0.3316 - val_accuracy: 0.8792\n",
      "Epoch 5/20\n",
      "1500/1500 [==============================] - 5s 3ms/step - loss: 0.2894 - accuracy: 0.8922 - val_loss: 0.3204 - val_accuracy: 0.8873\n",
      "Epoch 6/20\n",
      "1500/1500 [==============================] - 5s 4ms/step - loss: 0.2733 - accuracy: 0.8975 - val_loss: 0.3135 - val_accuracy: 0.8892\n",
      "Epoch 7/20\n",
      "1500/1500 [==============================] - 5s 4ms/step - loss: 0.2533 - accuracy: 0.9069 - val_loss: 0.3120 - val_accuracy: 0.8900\n",
      "Epoch 8/20\n",
      "1500/1500 [==============================] - 5s 4ms/step - loss: 0.2478 - accuracy: 0.9077 - val_loss: 0.3245 - val_accuracy: 0.8871\n",
      "Epoch 9/20\n",
      "1500/1500 [==============================] - 5s 4ms/step - loss: 0.2330 - accuracy: 0.9105 - val_loss: 0.3167 - val_accuracy: 0.8888\n",
      "Epoch 10/20\n",
      "1500/1500 [==============================] - 5s 4ms/step - loss: 0.2253 - accuracy: 0.9127 - val_loss: 0.3212 - val_accuracy: 0.8917\n",
      "Epoch 11/20\n",
      "1500/1500 [==============================] - 5s 4ms/step - loss: 0.2139 - accuracy: 0.9195 - val_loss: 0.3344 - val_accuracy: 0.8888\n",
      "Epoch 12/20\n",
      "1500/1500 [==============================] - 5s 4ms/step - loss: 0.2033 - accuracy: 0.9225 - val_loss: 0.3190 - val_accuracy: 0.8957\n",
      "Epoch 13/20\n",
      "1500/1500 [==============================] - 5s 4ms/step - loss: 0.1932 - accuracy: 0.9265 - val_loss: 0.3352 - val_accuracy: 0.8898\n",
      "Epoch 14/20\n",
      "1500/1500 [==============================] - 6s 4ms/step - loss: 0.1929 - accuracy: 0.9248 - val_loss: 0.3416 - val_accuracy: 0.8892\n",
      "Epoch 15/20\n",
      "1500/1500 [==============================] - 5s 4ms/step - loss: 0.1791 - accuracy: 0.9298 - val_loss: 0.3788 - val_accuracy: 0.8827\n",
      "Epoch 16/20\n",
      "1500/1500 [==============================] - 5s 4ms/step - loss: 0.1723 - accuracy: 0.9349 - val_loss: 0.3801 - val_accuracy: 0.8906\n",
      "Epoch 17/20\n",
      "1500/1500 [==============================] - 5s 4ms/step - loss: 0.1675 - accuracy: 0.9362 - val_loss: 0.3591 - val_accuracy: 0.8937\n",
      "Epoch 00017: early stopping\n",
      "313/313 [==============================] - 1s 2ms/step - loss: 0.3335 - accuracy: 0.8930\n"
     ]
    }
   ],
   "source": [
    "ann_result = []\n",
    "for i in training_number:\n",
    "    ann_result.append(ann(i))"
   ]
  },
  {
   "cell_type": "code",
   "execution_count": null,
   "metadata": {},
   "outputs": [],
   "source": []
  },
  {
   "cell_type": "code",
   "execution_count": 422,
   "metadata": {},
   "outputs": [],
   "source": [
    "def lda(number):\n",
    "    model_lda = LinearDiscriminantAnalysis()\n",
    "    x =train[:number].drop('label', axis = 1)/255\n",
    "    y = train[:number].label\n",
    "    model_lda.fit(x,y)\n",
    "    \n",
    "    predict_y_lda = model_lda.predict(test_x)\n",
    "    accuracy_lda= sum(predict_y_lda == test_y)/len(test_y)\n",
    "    return accuracy_lda"
   ]
  },
  {
   "cell_type": "code",
   "execution_count": null,
   "metadata": {},
   "outputs": [],
   "source": []
  },
  {
   "cell_type": "code",
   "execution_count": 423,
   "metadata": {},
   "outputs": [],
   "source": [
    "lda_result = []\n",
    "for i in training_number:\n",
    "    lda_result.append(lda(i))"
   ]
  },
  {
   "cell_type": "code",
   "execution_count": 425,
   "metadata": {},
   "outputs": [],
   "source": [
    "column = {'Number of Training Data':training_number, 'Linear Discriminant Analysis Test Accuracy': lda_result, 'Neural Networks Test Accuracy': ann_result}\n",
    "df_1 = pd.DataFrame(data=column)"
   ]
  },
  {
   "cell_type": "code",
   "execution_count": 431,
   "metadata": {},
   "outputs": [
    {
     "data": {
      "image/png": "[encoded data removed]",
      "text/plain": [
       "<Figure size 432x288 with 1 Axes>"
      ]
     },
     "metadata": {
      "needs_background": "light"
     },
     "output_type": "display_data"
    }
   ],
   "source": [
    "plt.plot(df_1['Number of Training Data'], df_1['Linear Discriminant Analysis Test Accuracy'])\n",
    "\n",
    "plt.title('Linear Discriminant Analysis Test Accuracy as the Number of Training Data Increases')\n",
    "plt.xlabel('Number of Training Data')\n",
    "plt.ylabel('Test Accuracy')\n",
    "plt.show()"
   ]
  },
  {
   "cell_type": "code",
   "execution_count": 432,
   "metadata": {},
   "outputs": [
    {
     "data": {
      "image/png": "[encoded data removed]",
      "text/plain": [
       "<Figure size 432x288 with 1 Axes>"
      ]
     },
     "metadata": {
      "needs_background": "light"
     },
     "output_type": "display_data"
    }
   ],
   "source": [
    "plt.plot(df_1['Number of Training Data'], df_1['Neural Networks Test Accuracy'], color = 'r')\n",
    "\n",
    "plt.title('Neural Networks Test Accuracy as the Number of Training Data Increases')\n",
    "plt.xlabel('Number of Training Data')\n",
    "plt.ylabel('Test Accuracy')\n",
    "plt.show()\n"
   ]
  },
  {
   "cell_type": "code",
   "execution_count": null,
   "metadata": {},
   "outputs": [],
   "source": []
  },
  {
   "cell_type": "code",
   "execution_count": 440,
   "metadata": {},
   "outputs": [
    {
     "data": {
      "image/png": "[encoded data removed]",
      "text/plain": [
       "<Figure size 432x288 with 1 Axes>"
      ]
     },
     "metadata": {
      "needs_background": "light"
     },
     "output_type": "display_data"
    }
   ],
   "source": [
    "plt.plot(df_1['Number of Training Data'],df_1['Linear Discriminant Analysis Test Accuracy'], color = 'b', label = 'Linear Discriminant Analysis')\n",
    "plt.plot(df_1['Number of Training Data'], df_1['Neural Networks Test Accuracy'], color = 'r', label = 'Neural Networks')\n",
    "plt.title('Neural Networks Test Accuracy versus Linear Discriminant Analysis Test Accuracy as the Number of Training Data Increases')\n",
    "plt.xlabel('Number of Training Data')\n",
    "plt.ylabel('Test Accuracy')\n",
    "plt.legend(loc=(1, 0))\n",
    "\n",
    "plt.show()"
   ]
  },
  {
   "cell_type": "code",
   "execution_count": null,
   "metadata": {},
   "outputs": [],
   "source": []
  },
  {
   "cell_type": "code",
   "execution_count": 449,
   "metadata": {},
   "outputs": [
    {
     "data": {
      "text/plain": [
       "[0.7981,\n",
       " 0.8136,\n",
       " 0.8179,\n",
       " 0.8189,\n",
       " 0.8221,\n",
       " 0.8234,\n",
       " 0.8234,\n",
       " 0.8238,\n",
       " 0.8237,\n",
       " 0.8237,\n",
       " 0.8256,\n",
       " 0.8256]"
      ]
     },
     "execution_count": 449,
     "metadata": {},
     "output_type": "execute_result"
    }
   ],
   "source": [
    "lda_result"
   ]
  },
  {
   "cell_type": "code",
   "execution_count": 455,
   "metadata": {},
   "outputs": [],
   "source": [
    "def slope(data):\n",
    "    slope_list = []\n",
    "    for i in range(len(data)-1):\n",
    "        sl = (data[i+1] - data[i])/data[i]\n",
    "        slope_list.append(sl)\n",
    "    return (sum(slope_list)/len(slope_list))"
   ]
  },
  {
   "cell_type": "code",
   "execution_count": 457,
   "metadata": {},
   "outputs": [
    {
     "name": "stdout",
     "output_type": "stream",
     "text": [
      "LDA Average Slope:  0.0030989986453644276\n",
      "ANN Average Slope:  0.005538252795947984\n"
     ]
    }
   ],
   "source": [
    "print (\"LDA Average Slope: \", slope(lda_result))\n",
    "print (\"ANN Average Slope: \", slope(ann_result))"
   ]
  },
  {
   "cell_type": "markdown",
   "metadata": {},
   "source": [
    "## 4. Heart Diseases "
   ]
  },
  {
   "cell_type": "code",
   "execution_count": 263,
   "metadata": {},
   "outputs": [],
   "source": [
    "heart = pd.read_csv('heart.csv')\n"
   ]
  },
  {
   "cell_type": "code",
   "execution_count": 264,
   "metadata": {},
   "outputs": [
    {
     "data": {
      "text/html": [
       "<div>\n",
       "<style scoped>\n",
       "    .dataframe tbody tr th:only-of-type {\n",
       "        vertical-align: middle;\n",
       "    }\n",
       "\n",
       "    .dataframe tbody tr th {\n",
       "        vertical-align: top;\n",
       "    }\n",
       "\n",
       "    .dataframe thead th {\n",
       "        text-align: right;\n",
       "    }\n",
       "</style>\n",
       "<table border=\"1\" class=\"dataframe\">\n",
       "  <thead>\n",
       "    <tr style=\"text-align: right;\">\n",
       "      <th></th>\n",
       "      <th>age</th>\n",
       "      <th>sex</th>\n",
       "      <th>cp</th>\n",
       "      <th>trestbps</th>\n",
       "      <th>chol</th>\n",
       "      <th>fbs</th>\n",
       "      <th>restecg</th>\n",
       "      <th>thalach</th>\n",
       "      <th>exang</th>\n",
       "      <th>oldpeak</th>\n",
       "      <th>slope</th>\n",
       "      <th>ca</th>\n",
       "      <th>thal</th>\n",
       "      <th>target</th>\n",
       "    </tr>\n",
       "  </thead>\n",
       "  <tbody>\n",
       "    <tr>\n",
       "      <th>0</th>\n",
       "      <td>63</td>\n",
       "      <td>1</td>\n",
       "      <td>3</td>\n",
       "      <td>145</td>\n",
       "      <td>233</td>\n",
       "      <td>1</td>\n",
       "      <td>0</td>\n",
       "      <td>150</td>\n",
       "      <td>0</td>\n",
       "      <td>2.3</td>\n",
       "      <td>0</td>\n",
       "      <td>0</td>\n",
       "      <td>1</td>\n",
       "      <td>1</td>\n",
       "    </tr>\n",
       "    <tr>\n",
       "      <th>1</th>\n",
       "      <td>37</td>\n",
       "      <td>1</td>\n",
       "      <td>2</td>\n",
       "      <td>130</td>\n",
       "      <td>250</td>\n",
       "      <td>0</td>\n",
       "      <td>1</td>\n",
       "      <td>187</td>\n",
       "      <td>0</td>\n",
       "      <td>3.5</td>\n",
       "      <td>0</td>\n",
       "      <td>0</td>\n",
       "      <td>2</td>\n",
       "      <td>1</td>\n",
       "    </tr>\n",
       "    <tr>\n",
       "      <th>2</th>\n",
       "      <td>41</td>\n",
       "      <td>0</td>\n",
       "      <td>1</td>\n",
       "      <td>130</td>\n",
       "      <td>204</td>\n",
       "      <td>0</td>\n",
       "      <td>0</td>\n",
       "      <td>172</td>\n",
       "      <td>0</td>\n",
       "      <td>1.4</td>\n",
       "      <td>2</td>\n",
       "      <td>0</td>\n",
       "      <td>2</td>\n",
       "      <td>1</td>\n",
       "    </tr>\n",
       "    <tr>\n",
       "      <th>3</th>\n",
       "      <td>56</td>\n",
       "      <td>1</td>\n",
       "      <td>1</td>\n",
       "      <td>120</td>\n",
       "      <td>236</td>\n",
       "      <td>0</td>\n",
       "      <td>1</td>\n",
       "      <td>178</td>\n",
       "      <td>0</td>\n",
       "      <td>0.8</td>\n",
       "      <td>2</td>\n",
       "      <td>0</td>\n",
       "      <td>2</td>\n",
       "      <td>1</td>\n",
       "    </tr>\n",
       "    <tr>\n",
       "      <th>4</th>\n",
       "      <td>57</td>\n",
       "      <td>0</td>\n",
       "      <td>0</td>\n",
       "      <td>120</td>\n",
       "      <td>354</td>\n",
       "      <td>0</td>\n",
       "      <td>1</td>\n",
       "      <td>163</td>\n",
       "      <td>1</td>\n",
       "      <td>0.6</td>\n",
       "      <td>2</td>\n",
       "      <td>0</td>\n",
       "      <td>2</td>\n",
       "      <td>1</td>\n",
       "    </tr>\n",
       "    <tr>\n",
       "      <th>...</th>\n",
       "      <td>...</td>\n",
       "      <td>...</td>\n",
       "      <td>...</td>\n",
       "      <td>...</td>\n",
       "      <td>...</td>\n",
       "      <td>...</td>\n",
       "      <td>...</td>\n",
       "      <td>...</td>\n",
       "      <td>...</td>\n",
       "      <td>...</td>\n",
       "      <td>...</td>\n",
       "      <td>...</td>\n",
       "      <td>...</td>\n",
       "      <td>...</td>\n",
       "    </tr>\n",
       "    <tr>\n",
       "      <th>298</th>\n",
       "      <td>57</td>\n",
       "      <td>0</td>\n",
       "      <td>0</td>\n",
       "      <td>140</td>\n",
       "      <td>241</td>\n",
       "      <td>0</td>\n",
       "      <td>1</td>\n",
       "      <td>123</td>\n",
       "      <td>1</td>\n",
       "      <td>0.2</td>\n",
       "      <td>1</td>\n",
       "      <td>0</td>\n",
       "      <td>3</td>\n",
       "      <td>0</td>\n",
       "    </tr>\n",
       "    <tr>\n",
       "      <th>299</th>\n",
       "      <td>45</td>\n",
       "      <td>1</td>\n",
       "      <td>3</td>\n",
       "      <td>110</td>\n",
       "      <td>264</td>\n",
       "      <td>0</td>\n",
       "      <td>1</td>\n",
       "      <td>132</td>\n",
       "      <td>0</td>\n",
       "      <td>1.2</td>\n",
       "      <td>1</td>\n",
       "      <td>0</td>\n",
       "      <td>3</td>\n",
       "      <td>0</td>\n",
       "    </tr>\n",
       "    <tr>\n",
       "      <th>300</th>\n",
       "      <td>68</td>\n",
       "      <td>1</td>\n",
       "      <td>0</td>\n",
       "      <td>144</td>\n",
       "      <td>193</td>\n",
       "      <td>1</td>\n",
       "      <td>1</td>\n",
       "      <td>141</td>\n",
       "      <td>0</td>\n",
       "      <td>3.4</td>\n",
       "      <td>1</td>\n",
       "      <td>2</td>\n",
       "      <td>3</td>\n",
       "      <td>0</td>\n",
       "    </tr>\n",
       "    <tr>\n",
       "      <th>301</th>\n",
       "      <td>57</td>\n",
       "      <td>1</td>\n",
       "      <td>0</td>\n",
       "      <td>130</td>\n",
       "      <td>131</td>\n",
       "      <td>0</td>\n",
       "      <td>1</td>\n",
       "      <td>115</td>\n",
       "      <td>1</td>\n",
       "      <td>1.2</td>\n",
       "      <td>1</td>\n",
       "      <td>1</td>\n",
       "      <td>3</td>\n",
       "      <td>0</td>\n",
       "    </tr>\n",
       "    <tr>\n",
       "      <th>302</th>\n",
       "      <td>57</td>\n",
       "      <td>0</td>\n",
       "      <td>1</td>\n",
       "      <td>130</td>\n",
       "      <td>236</td>\n",
       "      <td>0</td>\n",
       "      <td>0</td>\n",
       "      <td>174</td>\n",
       "      <td>0</td>\n",
       "      <td>0.0</td>\n",
       "      <td>1</td>\n",
       "      <td>1</td>\n",
       "      <td>2</td>\n",
       "      <td>0</td>\n",
       "    </tr>\n",
       "  </tbody>\n",
       "</table>\n",
       "<p>303 rows × 14 columns</p>\n",
       "</div>"
      ],
      "text/plain": [
       "     age  sex  cp  trestbps  chol  fbs  restecg  thalach  exang  oldpeak  \\\n",
       "0     63    1   3       145   233    1        0      150      0      2.3   \n",
       "1     37    1   2       130   250    0        1      187      0      3.5   \n",
       "2     41    0   1       130   204    0        0      172      0      1.4   \n",
       "3     56    1   1       120   236    0        1      178      0      0.8   \n",
       "4     57    0   0       120   354    0        1      163      1      0.6   \n",
       "..   ...  ...  ..       ...   ...  ...      ...      ...    ...      ...   \n",
       "298   57    0   0       140   241    0        1      123      1      0.2   \n",
       "299   45    1   3       110   264    0        1      132      0      1.2   \n",
       "300   68    1   0       144   193    1        1      141      0      3.4   \n",
       "301   57    1   0       130   131    0        1      115      1      1.2   \n",
       "302   57    0   1       130   236    0        0      174      0      0.0   \n",
       "\n",
       "     slope  ca  thal  target  \n",
       "0        0   0     1       1  \n",
       "1        0   0     2       1  \n",
       "2        2   0     2       1  \n",
       "3        2   0     2       1  \n",
       "4        2   0     2       1  \n",
       "..     ...  ..   ...     ...  \n",
       "298      1   0     3       0  \n",
       "299      1   0     3       0  \n",
       "300      1   2     3       0  \n",
       "301      1   1     3       0  \n",
       "302      1   1     2       0  \n",
       "\n",
       "[303 rows x 14 columns]"
      ]
     },
     "execution_count": 264,
     "metadata": {},
     "output_type": "execute_result"
    }
   ],
   "source": [
    "heart"
   ]
  },
  {
   "cell_type": "code",
   "execution_count": 265,
   "metadata": {},
   "outputs": [],
   "source": [
    "heart_y = heart.target\n",
    "\n",
    "heart_x = heart.drop('target', axis = 1)\n"
   ]
  },
  {
   "cell_type": "code",
   "execution_count": 267,
   "metadata": {},
   "outputs": [],
   "source": [
    "train_x, test_x, train_y, test_y = train_test_split(heart_x,heart_y, test_size=0.2, shuffle = True, random_state = 2) #first, split out 20% test dataset\n"
   ]
  },
  {
   "cell_type": "markdown",
   "metadata": {},
   "source": [
    "## LDA"
   ]
  },
  {
   "cell_type": "code",
   "execution_count": 268,
   "metadata": {},
   "outputs": [
    {
     "data": {
      "text/plain": [
       "LinearDiscriminantAnalysis()"
      ]
     },
     "execution_count": 268,
     "metadata": {},
     "output_type": "execute_result"
    }
   ],
   "source": [
    "model_4_lda = LinearDiscriminantAnalysis()\n",
    "model_4_lda.fit(train_x, train_y)"
   ]
  },
  {
   "cell_type": "code",
   "execution_count": 269,
   "metadata": {},
   "outputs": [
    {
     "name": "stdout",
     "output_type": "stream",
     "text": [
      "LDA Accuracy:  0.8688524590163934\n"
     ]
    }
   ],
   "source": [
    "predict_y = model_4_lda.predict(test_x)\n",
    "accuracy_4_lda= sum(predict_y == test_y)/len(test_y)\n",
    "print(\"LDA Accuracy: \",accuracy_4_lda )"
   ]
  },
  {
   "cell_type": "code",
   "execution_count": null,
   "metadata": {},
   "outputs": [],
   "source": []
  },
  {
   "cell_type": "markdown",
   "metadata": {},
   "source": [
    "## ANN"
   ]
  },
  {
   "cell_type": "code",
   "execution_count": 280,
   "metadata": {},
   "outputs": [],
   "source": [
    "train_x_normalized=normalize(train_x,axis=0)\n",
    "test_x_normalized=normalize(test_x,axis=0)\n",
    "train_y_dummy = pd.get_dummies(train_y)\n",
    "test_y_dummy = pd.get_dummies(test_y)"
   ]
  },
  {
   "cell_type": "code",
   "execution_count": 281,
   "metadata": {},
   "outputs": [],
   "source": [
    "model_4_ann=Sequential()\n",
    "model_4_ann.add(Dense(500,input_dim=13,activation='relu'))\n",
    "model_4_ann.add(Dense(200,activation='relu'))\n",
    "model_4_ann.add(Dropout(0.1))\n",
    "model_4_ann.add(Dense(2,activation='softmax'))\n",
    "model_4_ann.compile(loss='categorical_crossentropy',optimizer='adam',metrics=['accuracy'])"
   ]
  },
  {
   "cell_type": "code",
   "execution_count": 282,
   "metadata": {},
   "outputs": [],
   "source": [
    "es = EarlyStopping(monitor='val_accuracy', mode='max', verbose=1, patience=5) #earlystopping\n"
   ]
  },
  {
   "cell_type": "code",
   "execution_count": 284,
   "metadata": {},
   "outputs": [
    {
     "name": "stdout",
     "output_type": "stream",
     "text": [
      "Epoch 1/40\n",
      "7/7 [==============================] - 1s 34ms/step - loss: 0.6871 - accuracy: 0.6410 - val_loss: 0.6573 - val_accuracy: 0.6939\n",
      "Epoch 2/40\n",
      "7/7 [==============================] - 0s 9ms/step - loss: 0.6590 - accuracy: 0.6594 - val_loss: 0.6221 - val_accuracy: 0.7347\n",
      "Epoch 3/40\n",
      "7/7 [==============================] - 0s 8ms/step - loss: 0.6201 - accuracy: 0.8059 - val_loss: 0.5977 - val_accuracy: 0.8571\n",
      "Epoch 4/40\n",
      "7/7 [==============================] - 0s 9ms/step - loss: 0.6012 - accuracy: 0.8029 - val_loss: 0.5448 - val_accuracy: 0.8367\n",
      "Epoch 5/40\n",
      "7/7 [==============================] - 0s 9ms/step - loss: 0.5606 - accuracy: 0.7825 - val_loss: 0.4917 - val_accuracy: 0.8163\n",
      "Epoch 6/40\n",
      "7/7 [==============================] - 0s 9ms/step - loss: 0.5093 - accuracy: 0.8182 - val_loss: 0.4641 - val_accuracy: 0.8571\n",
      "Epoch 7/40\n",
      "7/7 [==============================] - 0s 9ms/step - loss: 0.4951 - accuracy: 0.7938 - val_loss: 0.4194 - val_accuracy: 0.8367\n",
      "Epoch 8/40\n",
      "7/7 [==============================] - 0s 9ms/step - loss: 0.4874 - accuracy: 0.7879 - val_loss: 0.3938 - val_accuracy: 0.8367\n",
      "Epoch 00008: early stopping\n"
     ]
    }
   ],
   "source": [
    "history_4_ann = model_4_ann.fit(train_x_normalized,train_y_dummy,validation_split = 0.2,epochs=40,verbose=1, callbacks=[es] )\n"
   ]
  },
  {
   "cell_type": "code",
   "execution_count": 285,
   "metadata": {},
   "outputs": [
    {
     "name": "stdout",
     "output_type": "stream",
     "text": [
      "2/2 [==============================] - 0s 5ms/step - loss: 0.3251 - accuracy: 0.8361\n"
     ]
    }
   ],
   "source": [
    "ann_4_score, accuracy_4_ann = model_4_ann.evaluate(test_x_normalized,test_y_dummy)"
   ]
  },
  {
   "cell_type": "code",
   "execution_count": 286,
   "metadata": {},
   "outputs": [
    {
     "name": "stdout",
     "output_type": "stream",
     "text": [
      "ANN Accuracy:  0.8360655903816223\n"
     ]
    }
   ],
   "source": [
    "print(\"ANN Accuracy: \",accuracy_4_ann)"
   ]
  },
  {
   "cell_type": "code",
   "execution_count": null,
   "metadata": {},
   "outputs": [],
   "source": []
  },
  {
   "cell_type": "code",
   "execution_count": null,
   "metadata": {},
   "outputs": [],
   "source": []
  },
  {
   "cell_type": "markdown",
   "metadata": {},
   "source": [
    "## 5. Customer Targeting"
   ]
  },
  {
   "cell_type": "code",
   "execution_count": 287,
   "metadata": {},
   "outputs": [],
   "source": [
    "customer = pd.read_csv('customerTargeting.csv')\n"
   ]
  },
  {
   "cell_type": "code",
   "execution_count": 290,
   "metadata": {},
   "outputs": [],
   "source": [
    "customer_y = customer.target\n",
    "customer_x = customer.drop('target', axis = 1)\n"
   ]
  },
  {
   "cell_type": "code",
   "execution_count": 291,
   "metadata": {},
   "outputs": [],
   "source": [
    "train_x, test_x, train_y, test_y = train_test_split(customer_x,customer_y, test_size=0.2, shuffle = True, random_state = 3) #first, split out 20% test dataset\n"
   ]
  },
  {
   "cell_type": "markdown",
   "metadata": {},
   "source": [
    "## LDA"
   ]
  },
  {
   "cell_type": "code",
   "execution_count": 292,
   "metadata": {},
   "outputs": [
    {
     "data": {
      "text/plain": [
       "LinearDiscriminantAnalysis()"
      ]
     },
     "execution_count": 292,
     "metadata": {},
     "output_type": "execute_result"
    }
   ],
   "source": [
    "model_5_lda = LinearDiscriminantAnalysis()\n",
    "model_5_lda.fit(train_x, train_y)"
   ]
  },
  {
   "cell_type": "code",
   "execution_count": 293,
   "metadata": {},
   "outputs": [
    {
     "name": "stdout",
     "output_type": "stream",
     "text": [
      "LDA Accuracy:  0.5687311178247734\n"
     ]
    }
   ],
   "source": [
    "predict_y = model_5_lda.predict(test_x)\n",
    "accuracy_5_lda= sum(predict_y == test_y)/len(test_y)\n",
    "print(\"LDA Accuracy: \",accuracy_5_lda )"
   ]
  },
  {
   "cell_type": "code",
   "execution_count": null,
   "metadata": {},
   "outputs": [],
   "source": []
  },
  {
   "cell_type": "markdown",
   "metadata": {},
   "source": [
    "## ANN"
   ]
  },
  {
   "cell_type": "code",
   "execution_count": 297,
   "metadata": {},
   "outputs": [],
   "source": [
    "train_x_normalized=normalize(train_x,axis=0)\n",
    "test_x_normalized=normalize(test_x,axis=0)\n",
    "train_y_dummy = pd.get_dummies(train_y)\n",
    "test_y_dummy = pd.get_dummies(test_y)"
   ]
  },
  {
   "cell_type": "code",
   "execution_count": 303,
   "metadata": {},
   "outputs": [],
   "source": [
    "model_5_ann=Sequential()\n",
    "model_5_ann.add(Dense(500,input_dim=70,activation='relu'))\n",
    "model_5_ann.add(Dense(200,activation='relu'))\n",
    "model_5_ann.add(Dropout(0.1))\n",
    "model_5_ann.add(Dense(3,activation='softmax'))\n",
    "model_5_ann.compile(loss='categorical_crossentropy',optimizer='adam',metrics=['accuracy'])"
   ]
  },
  {
   "cell_type": "code",
   "execution_count": 304,
   "metadata": {},
   "outputs": [],
   "source": [
    "es = EarlyStopping(monitor='val_accuracy', mode='max', verbose=1, patience=5) #earlystopping\n"
   ]
  },
  {
   "cell_type": "code",
   "execution_count": 305,
   "metadata": {},
   "outputs": [
    {
     "name": "stdout",
     "output_type": "stream",
     "text": [
      "Epoch 1/40\n",
      "133/133 [==============================] - 1s 3ms/step - loss: 1.0155 - accuracy: 0.5011 - val_loss: 0.9559 - val_accuracy: 0.5594\n",
      "Epoch 2/40\n",
      "133/133 [==============================] - 0s 2ms/step - loss: 0.9317 - accuracy: 0.5692 - val_loss: 0.9402 - val_accuracy: 0.5726\n",
      "Epoch 3/40\n",
      "133/133 [==============================] - 0s 2ms/step - loss: 0.9181 - accuracy: 0.5874 - val_loss: 0.9322 - val_accuracy: 0.5679\n",
      "Epoch 4/40\n",
      "133/133 [==============================] - 0s 2ms/step - loss: 0.9173 - accuracy: 0.5795 - val_loss: 0.9228 - val_accuracy: 0.5783\n",
      "Epoch 5/40\n",
      "133/133 [==============================] - 0s 2ms/step - loss: 0.9229 - accuracy: 0.5805 - val_loss: 0.9215 - val_accuracy: 0.5811\n",
      "Epoch 6/40\n",
      "133/133 [==============================] - 0s 3ms/step - loss: 0.9100 - accuracy: 0.5868 - val_loss: 0.9176 - val_accuracy: 0.5858\n",
      "Epoch 7/40\n",
      "133/133 [==============================] - 0s 3ms/step - loss: 0.9041 - accuracy: 0.5900 - val_loss: 0.9421 - val_accuracy: 0.5509\n",
      "Epoch 8/40\n",
      "133/133 [==============================] - 0s 3ms/step - loss: 0.8968 - accuracy: 0.5985 - val_loss: 0.9218 - val_accuracy: 0.5623\n",
      "Epoch 9/40\n",
      "133/133 [==============================] - 0s 3ms/step - loss: 0.8971 - accuracy: 0.5986 - val_loss: 0.9344 - val_accuracy: 0.5623\n",
      "Epoch 10/40\n",
      "133/133 [==============================] - 0s 2ms/step - loss: 0.9058 - accuracy: 0.5836 - val_loss: 0.9210 - val_accuracy: 0.5755\n",
      "Epoch 11/40\n",
      "133/133 [==============================] - 0s 2ms/step - loss: 0.9018 - accuracy: 0.5887 - val_loss: 0.9179 - val_accuracy: 0.5792\n",
      "Epoch 00011: early stopping\n"
     ]
    }
   ],
   "source": [
    "history_5_ann = model_5_ann.fit(train_x_normalized,train_y_dummy,validation_split = 0.2,epochs=40,verbose=1, callbacks=[es] )\n"
   ]
  },
  {
   "cell_type": "code",
   "execution_count": 306,
   "metadata": {},
   "outputs": [
    {
     "name": "stdout",
     "output_type": "stream",
     "text": [
      "42/42 [==============================] - 0s 1ms/step - loss: 0.9641 - accuracy: 0.5710\n"
     ]
    }
   ],
   "source": [
    "ann_5_score, accuracy_5_ann = model_5_ann.evaluate(test_x_normalized,test_y_dummy)"
   ]
  },
  {
   "cell_type": "code",
   "execution_count": 308,
   "metadata": {},
   "outputs": [
    {
     "name": "stdout",
     "output_type": "stream",
     "text": [
      "ANN Accuracy:  0.5709969997406006\n"
     ]
    }
   ],
   "source": [
    "print(\"ANN Accuracy: \",accuracy_5_ann)"
   ]
  },
  {
   "cell_type": "code",
   "execution_count": null,
   "metadata": {},
   "outputs": [],
   "source": []
  },
  {
   "cell_type": "markdown",
   "metadata": {},
   "source": [
    "## 6. Company Bankruptcy"
   ]
  },
  {
   "cell_type": "code",
   "execution_count": 311,
   "metadata": {},
   "outputs": [],
   "source": [
    "bankruptcy = pd.read_csv('bankruptcy.csv')\n"
   ]
  },
  {
   "cell_type": "code",
   "execution_count": 312,
   "metadata": {},
   "outputs": [],
   "source": [
    "bankruptcy_y = bankruptcy.bankruptcy\n",
    "bankruptcy_x = bankruptcy.drop('bankruptcy', axis = 1)\n"
   ]
  },
  {
   "cell_type": "code",
   "execution_count": 313,
   "metadata": {},
   "outputs": [],
   "source": [
    "train_x, test_x, train_y, test_y = train_test_split(bankruptcy_x,bankruptcy_y, test_size=0.2, shuffle = True, random_state = 4) #first, split out 20% test dataset\n"
   ]
  },
  {
   "cell_type": "markdown",
   "metadata": {},
   "source": [
    "## LDA"
   ]
  },
  {
   "cell_type": "code",
   "execution_count": 314,
   "metadata": {},
   "outputs": [
    {
     "data": {
      "text/plain": [
       "LinearDiscriminantAnalysis()"
      ]
     },
     "execution_count": 314,
     "metadata": {},
     "output_type": "execute_result"
    }
   ],
   "source": [
    "model_6_lda = LinearDiscriminantAnalysis()\n",
    "model_6_lda.fit(train_x, train_y)"
   ]
  },
  {
   "cell_type": "code",
   "execution_count": 315,
   "metadata": {},
   "outputs": [
    {
     "name": "stdout",
     "output_type": "stream",
     "text": [
      "LDA Accuracy:  0.9618768328445748\n"
     ]
    }
   ],
   "source": [
    "predict_y = model_6_lda.predict(test_x)\n",
    "accuracy_6_lda= sum(predict_y == test_y)/len(test_y)\n",
    "print(\"LDA Accuracy: \",accuracy_6_lda )"
   ]
  },
  {
   "cell_type": "code",
   "execution_count": null,
   "metadata": {},
   "outputs": [],
   "source": []
  },
  {
   "cell_type": "markdown",
   "metadata": {},
   "source": [
    "## ANN"
   ]
  },
  {
   "cell_type": "code",
   "execution_count": 319,
   "metadata": {},
   "outputs": [],
   "source": [
    "train_y_dummy = pd.get_dummies(train_y)\n",
    "test_y_dummy = pd.get_dummies(test_y)"
   ]
  },
  {
   "cell_type": "code",
   "execution_count": 323,
   "metadata": {},
   "outputs": [],
   "source": [
    "model_6_ann=Sequential()\n",
    "model_6_ann.add(Dense(500,input_dim=95,activation='relu'))\n",
    "model_6_ann.add(Dense(200,activation='relu'))\n",
    "model_6_ann.add(Dropout(0.1))\n",
    "model_6_ann.add(Dense(2,activation='softmax'))\n",
    "model_6_ann.compile(loss='categorical_crossentropy',optimizer='adam',metrics=['accuracy']) "
   ]
  },
  {
   "cell_type": "code",
   "execution_count": 324,
   "metadata": {},
   "outputs": [],
   "source": [
    "es = EarlyStopping(monitor='val_accuracy', mode='max', verbose=1, patience=10) #earlystopping\n"
   ]
  },
  {
   "cell_type": "code",
   "execution_count": 325,
   "metadata": {},
   "outputs": [
    {
     "name": "stdout",
     "output_type": "stream",
     "text": [
      "Epoch 1/40\n",
      "137/137 [==============================] - 1s 3ms/step - loss: 50189790.5362 - accuracy: 0.9343 - val_loss: 11142576.0000 - val_accuracy: 0.9643\n",
      "Epoch 2/40\n",
      "137/137 [==============================] - 0s 2ms/step - loss: 6235194.6522 - accuracy: 0.9485 - val_loss: 2494711.5000 - val_accuracy: 0.9404\n",
      "Epoch 3/40\n",
      "137/137 [==============================] - 0s 2ms/step - loss: 1488725.4656 - accuracy: 0.9577 - val_loss: 874376.5000 - val_accuracy: 0.9588\n",
      "Epoch 4/40\n",
      "137/137 [==============================] - 0s 2ms/step - loss: 423747.0679 - accuracy: 0.9237 - val_loss: 404103.0625 - val_accuracy: 0.9505\n",
      "Epoch 5/40\n",
      "137/137 [==============================] - 0s 2ms/step - loss: 110924.2432 - accuracy: 0.9495 - val_loss: 261293.0156 - val_accuracy: 0.9523\n",
      "Epoch 6/40\n",
      "137/137 [==============================] - 0s 2ms/step - loss: 27737.5218 - accuracy: 0.9426 - val_loss: 246567.5625 - val_accuracy: 0.9441\n",
      "Epoch 7/40\n",
      "137/137 [==============================] - 0s 2ms/step - loss: 9965.3745 - accuracy: 0.9524 - val_loss: 214090.3906 - val_accuracy: 0.9542\n",
      "Epoch 8/40\n",
      "137/137 [==============================] - 0s 2ms/step - loss: 6236.4207 - accuracy: 0.9582 - val_loss: 215036.9531 - val_accuracy: 0.9496\n",
      "Epoch 9/40\n",
      "137/137 [==============================] - 0s 2ms/step - loss: 2530.1586 - accuracy: 0.9668 - val_loss: 218603.6719 - val_accuracy: 0.9386\n",
      "Epoch 10/40\n",
      "137/137 [==============================] - 0s 3ms/step - loss: 30529.4544 - accuracy: 0.9591 - val_loss: 212148.7812 - val_accuracy: 0.9606\n",
      "Epoch 11/40\n",
      "137/137 [==============================] - 0s 3ms/step - loss: 1242.1621 - accuracy: 0.9673 - val_loss: 367177.1562 - val_accuracy: 0.9597\n",
      "Epoch 00011: early stopping\n"
     ]
    }
   ],
   "source": [
    "history_6_ann = model_6_ann.fit(train_x,train_y_dummy,validation_split = 0.2,epochs=40,verbose=1, callbacks=[es] )\n"
   ]
  },
  {
   "cell_type": "code",
   "execution_count": 326,
   "metadata": {},
   "outputs": [
    {
     "name": "stdout",
     "output_type": "stream",
     "text": [
      "43/43 [==============================] - 0s 3ms/step - loss: 773262.5000 - accuracy: 0.9545\n"
     ]
    }
   ],
   "source": [
    "ann_6_score, accuracy_6_ann = model_6_ann.evaluate(test_x,test_y_dummy)"
   ]
  },
  {
   "cell_type": "code",
   "execution_count": 327,
   "metadata": {},
   "outputs": [
    {
     "name": "stdout",
     "output_type": "stream",
     "text": [
      "ANN Accuracy:  0.9545454382896423\n"
     ]
    }
   ],
   "source": [
    "print(\"ANN Accuracy: \",accuracy_6_ann)"
   ]
  },
  {
   "cell_type": "code",
   "execution_count": null,
   "metadata": {},
   "outputs": [],
   "source": []
  },
  {
   "cell_type": "markdown",
   "metadata": {},
   "source": [
    "## Conclusion"
   ]
  },
  {
   "cell_type": "code",
   "execution_count": 363,
   "metadata": {},
   "outputs": [],
   "source": [
    "lda_test_accuracy = []\n",
    "ann_test_accuracy = []"
   ]
  },
  {
   "cell_type": "code",
   "execution_count": 364,
   "metadata": {},
   "outputs": [],
   "source": [
    "lda_test_accuracy.append(accuracy_1_lda)\n",
    "lda_test_accuracy.append(accuracy_2_lda)\n",
    "lda_test_accuracy.append(accuracy_3_lda)\n",
    "lda_test_accuracy.append(accuracy_4_lda)\n",
    "lda_test_accuracy.append(accuracy_5_lda)\n",
    "lda_test_accuracy.append(accuracy_6_lda)"
   ]
  },
  {
   "cell_type": "code",
   "execution_count": 365,
   "metadata": {},
   "outputs": [],
   "source": [
    "ann_test_accuracy.append(accuracy_1_ann)\n",
    "ann_test_accuracy.append(accuracy_2_ann)\n",
    "ann_test_accuracy.append(accuracy_3_ann)\n",
    "ann_test_accuracy.append(accuracy_4_ann)\n",
    "ann_test_accuracy.append(accuracy_5_ann)\n",
    "ann_test_accuracy.append(accuracy_6_ann)"
   ]
  },
  {
   "cell_type": "code",
   "execution_count": 366,
   "metadata": {},
   "outputs": [],
   "source": [
    "data_name = ['Iris', 'Wine', 'MNIST Fashion', 'Heart Diseases', 'Customer Targeting', 'Company Bankruptcy' ]"
   ]
  },
  {
   "cell_type": "code",
   "execution_count": 367,
   "metadata": {},
   "outputs": [],
   "source": [
    "d = {'Data Set':data_name, 'Linear Discriminant Analysis Test Accuracy': lda_test_accuracy, 'Neural Networks Test Accuracy': ann_test_accuracy}\n",
    "df = pd.DataFrame(data=d)"
   ]
  },
  {
   "cell_type": "code",
   "execution_count": 368,
   "metadata": {},
   "outputs": [
    {
     "data": {
      "text/html": [
       "<div>\n",
       "<style scoped>\n",
       "    .dataframe tbody tr th:only-of-type {\n",
       "        vertical-align: middle;\n",
       "    }\n",
       "\n",
       "    .dataframe tbody tr th {\n",
       "        vertical-align: top;\n",
       "    }\n",
       "\n",
       "    .dataframe thead th {\n",
       "        text-align: right;\n",
       "    }\n",
       "</style>\n",
       "<table border=\"1\" class=\"dataframe\">\n",
       "  <thead>\n",
       "    <tr style=\"text-align: right;\">\n",
       "      <th></th>\n",
       "      <th>Data Set</th>\n",
       "      <th>Linear Discriminant Analysis Test Accuracy</th>\n",
       "      <th>Neural Networks Test Accuracy</th>\n",
       "    </tr>\n",
       "  </thead>\n",
       "  <tbody>\n",
       "    <tr>\n",
       "      <th>0</th>\n",
       "      <td>Iris</td>\n",
       "      <td>0.977778</td>\n",
       "      <td>0.577778</td>\n",
       "    </tr>\n",
       "    <tr>\n",
       "      <th>1</th>\n",
       "      <td>Wine</td>\n",
       "      <td>1.000000</td>\n",
       "      <td>0.805556</td>\n",
       "    </tr>\n",
       "    <tr>\n",
       "      <th>2</th>\n",
       "      <td>MNIST Fashion</td>\n",
       "      <td>0.825600</td>\n",
       "      <td>0.897100</td>\n",
       "    </tr>\n",
       "    <tr>\n",
       "      <th>3</th>\n",
       "      <td>Heart Diseases</td>\n",
       "      <td>0.868852</td>\n",
       "      <td>0.836066</td>\n",
       "    </tr>\n",
       "    <tr>\n",
       "      <th>4</th>\n",
       "      <td>Customer Targeting</td>\n",
       "      <td>0.568731</td>\n",
       "      <td>0.570997</td>\n",
       "    </tr>\n",
       "    <tr>\n",
       "      <th>5</th>\n",
       "      <td>Company Bankruptcy</td>\n",
       "      <td>0.961877</td>\n",
       "      <td>0.954545</td>\n",
       "    </tr>\n",
       "  </tbody>\n",
       "</table>\n",
       "</div>"
      ],
      "text/plain": [
       "             Data Set  Linear Discriminant Analysis Test Accuracy  \\\n",
       "0                Iris                                    0.977778   \n",
       "1                Wine                                    1.000000   \n",
       "2       MNIST Fashion                                    0.825600   \n",
       "3      Heart Diseases                                    0.868852   \n",
       "4  Customer Targeting                                    0.568731   \n",
       "5  Company Bankruptcy                                    0.961877   \n",
       "\n",
       "   Neural Networks Test Accuracy  \n",
       "0                       0.577778  \n",
       "1                       0.805556  \n",
       "2                       0.897100  \n",
       "3                       0.836066  \n",
       "4                       0.570997  \n",
       "5                       0.954545  "
      ]
     },
     "execution_count": 368,
     "metadata": {},
     "output_type": "execute_result"
    }
   ],
   "source": [
    "df "
   ]
  },
  {
   "cell_type": "code",
   "execution_count": 392,
   "metadata": {},
   "outputs": [
    {
     "data": {
      "text/plain": [
       "<Figure size 41472x31104 with 0 Axes>"
      ]
     },
     "metadata": {},
     "output_type": "display_data"
    },
    {
     "data": {
      "image/png": "[encoded data removed]",
      "text/plain": [
       "<Figure size 432x288 with 1 Axes>"
      ]
     },
     "metadata": {
      "needs_background": "light"
     },
     "output_type": "display_data"
    }
   ],
   "source": [
    "fig = plt.figure(figsize=(576,432))\n",
    "df.plot(kind='bar',x='Data Set', color = ['orange', 'maroon'], y=['Linear Discriminant Analysis Test Accuracy','Neural Networks Test Accuracy'], position=1)\n",
    "plt.ylabel(\"Test Accuracy\")\n",
    "plt.title('LDA Test Accuracy vs. ANN Test Accuracy on 6 Datasets')\n",
    "plt.legend(loc=(1, 1))\n",
    "plt.show()"
   ]
  },
  {
   "cell_type": "code",
   "execution_count": null,
   "metadata": {},
   "outputs": [],
   "source": []
  }
 ],
 "metadata": {
  "kernelspec": {
   "display_name": "Python 3",
   "language": "python",
   "name": "python3"
  },
  "language_info": {
   "codemirror_mode": {
    "name": "ipython",
    "version": 3
   },
   "file_extension": ".py",
   "mimetype": "text/x-python",
   "name": "python",
   "nbconvert_exporter": "python",
   "pygments_lexer": "ipython3",
   "version": "3.8.5"
  }
 },
 "nbformat": 4,
 "nbformat_minor": 4
}
